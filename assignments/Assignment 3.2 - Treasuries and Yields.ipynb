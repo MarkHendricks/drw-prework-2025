{
 "cells": [
  {
   "cell_type": "markdown",
   "id": "9ed64b02",
   "metadata": {},
   "source": [
    "# Assignment 3.2 - Treasuries and Yields\n",
    "\n",
    "## DRW & UofC Quant Foundations\n",
    "### Summer 2025\n",
    "#### Mark Hendricks\n",
    "#### hendricks@uchicago.edu"
   ]
  },
  {
   "cell_type": "markdown",
   "id": "a9fe1372",
   "metadata": {},
   "source": [
    "***"
   ]
  },
  {
   "cell_type": "markdown",
   "id": "de69be79",
   "metadata": {
    "heading_collapsed": true
   },
   "source": [
    "# Data\n",
    "\n",
    "Use the data file `../data/treasury_quotes_2025-04-30.xlsx`."
   ]
  },
  {
   "cell_type": "markdown",
   "id": "85219513-4eb7-4ab5-b035-96628789f8f3",
   "metadata": {},
   "source": [
    "***"
   ]
  },
  {
   "cell_type": "markdown",
   "id": "da1e6d89",
   "metadata": {
    "heading_collapsed": true
   },
   "source": [
    "# 1. Treasury Debt Composition"
   ]
  },
  {
   "cell_type": "markdown",
   "id": "e25baaab-18af-403c-ba9c-f85329c4294b",
   "metadata": {},
   "source": [
    "### Data\n",
    "Use the data in the `quotes` tab."
   ]
  },
  {
   "cell_type": "markdown",
   "id": "0a79f5d5",
   "metadata": {
    "hidden": true
   },
   "source": [
    "### 1.1\n",
    "Plot the total amount of outstanding debt maturing at each date\n",
    "\n",
    "* Do this for `total size`, as that is listed for T-bills.\n",
    "* (You could also examine `public size`, but that will exclude T-bills.)\n",
    "\n",
    "Tip: `.pivot_table()` may be useful.\n",
    "\n",
    "### 1.2\n",
    "Plot the amount of outstanding debt maturing at each date, segmented by bonds, notes, TIPS.\n",
    "\n",
    "### 1.3\n",
    "Report the total outstanding debt (summed over all maturity dates,) segmented by bonds, notes, TIPS.\n",
    "\n",
    "### 1.4\n",
    "Make a pie chart of this total number (reported in 1.3.) "
   ]
  },
  {
   "cell_type": "markdown",
   "id": "5c2d8872-94c5-4d66-b17f-f56f036b2798",
   "metadata": {
    "hidden": true
   },
   "source": [
    "### 1.5\n",
    "\n",
    "Calculate the time-to-maturity (relative to the quoted date) for each issue.\n",
    "\n",
    "Report the summary statistics of these time-to-maturities. \n",
    "\n",
    "Consider using `.describe()`"
   ]
  },
  {
   "cell_type": "markdown",
   "id": "ed8520b8-b127-429d-8653-a87fa45fe0d1",
   "metadata": {},
   "source": [
    "***"
   ]
  },
  {
   "cell_type": "markdown",
   "id": "1ba578d3",
   "metadata": {},
   "source": [
    "# 2 YTM and Price"
   ]
  },
  {
   "cell_type": "markdown",
   "id": "d25907b1",
   "metadata": {},
   "source": [
    "The problems in this section ask you to calculate the **yield-to-maturity (YTM)** of various bonds.\n",
    "\n",
    "You will need to use a nonlinear solver to solve for the YTM.\n",
    "\n",
    "For any given bond, YTM ($y$) solves...\n",
    "\n",
    "$$p = \\sum_{i=1}^{2n}\\frac{Fc/2}{(1+y/2)^i} + \\frac{F}{(1+y/2)^{2n}}$$\n",
    "\n",
    "where\n",
    "* $p$ is the bond's price.\n",
    "* $n$ is the number of years to maturity\n",
    "* $c$ is the coupon rate (a percentage)\n",
    "* $F$ is the face value. Use $F=100$\n",
    "\n",
    "#### Solving for YTM\n",
    "Consider using `fsolve` to solve the yield implicitly from the nonlinear equation. This function is imported with...\n",
    "\n",
    "`from scipy.optimize import fsolve`"
   ]
  },
  {
   "cell_type": "markdown",
   "id": "c0a50918",
   "metadata": {},
   "source": [
    "### 2.1\n",
    "\n",
    "Consider a semiannual bond with the following stylized parameters:\n",
    "* time-to-maturity of 30 years\n",
    "* coupon rate: 3%\n",
    "* Face value of 100\n",
    "\n",
    "1. Assume the YTM is 5%. Calculate the price.\n",
    "1. Assume the price is 87. Calculate the YTM."
   ]
  },
  {
   "cell_type": "markdown",
   "id": "1aa0da9e",
   "metadata": {},
   "source": [
    "### 2.2\n",
    "\n",
    "### Data\n",
    "Use the data in the `selected quotes` tab.\n",
    "* It gives treasury bond data for various maturities, spaced roughly six months apart.\n",
    "* Feel free to approximate the time-to-maturity to be exactly semiannually if that is easier for the problem below.\n",
    "* Use the `price` column for the price data in the YTM formula. (No need to worry about \"dirty\" price, bid, ask, nor accrued interest.)"
   ]
  },
  {
   "cell_type": "markdown",
   "id": "054f703b",
   "metadata": {},
   "source": [
    "1. Calculate the yield-to-maturity for each issue. How close are your calculations to the provided column `ytm`?\n",
    "\n",
    "1. Plot the time-to-maturity (TTM) against the calculated YTM."
   ]
  },
  {
   "cell_type": "markdown",
   "id": "2aeedd95",
   "metadata": {},
   "source": [
    "***"
   ]
  },
  {
   "cell_type": "markdown",
   "id": "b290fb9f",
   "metadata": {},
   "source": [
    "# 3. Extra\n",
    "\n",
    "Try these problems if you are inclined. They are not required."
   ]
  },
  {
   "cell_type": "markdown",
   "id": "7b1a8ebd",
   "metadata": {},
   "source": [
    "### Data\n",
    "Use the data in the `selected quotes` tab.\n",
    "\n",
    "Focus on the nominal securities. \n",
    "* Exclude any row with `type` of `TIPS note` or `TIPS bond`."
   ]
  },
  {
   "cell_type": "markdown",
   "id": "1b191c3b",
   "metadata": {},
   "source": [
    "### 3.1\n",
    "Plot the time-to-maturity against the provided YTM.\n",
    "\n",
    "### 3.2\n",
    "\n",
    "1. Calculate the YTM of each (nominal) bond issue in the data set. \n",
    "\n",
    "1. Report how far your YTM calculation is from those reported in the data set.\n",
    "\n",
    "1. Report your calculated YTM for the issues where the dataset does not provide a YTM.\n",
    "\n",
    "\n",
    "### 3.3\n",
    "\n",
    "For the Treasury bills, calculate the **discount yields**.\n",
    "\n",
    "Identify the T-bills using `type`=`bill` or looking for `cpnrate` of 0."
   ]
  },
  {
   "cell_type": "markdown",
   "id": "1ad3f319",
   "metadata": {},
   "source": [
    "***"
   ]
  }
 ],
 "metadata": {
  "hide_input": false,
  "kernelspec": {
   "display_name": "Python 3 (ipykernel)",
   "language": "python",
   "name": "python3"
  },
  "language_info": {
   "codemirror_mode": {
    "name": "ipython",
    "version": 3
   },
   "file_extension": ".py",
   "mimetype": "text/x-python",
   "name": "python",
   "nbconvert_exporter": "python",
   "pygments_lexer": "ipython3",
   "version": "3.13.5"
  },
  "toc": {
   "base_numbering": 1,
   "nav_menu": {},
   "number_sections": false,
   "sideBar": true,
   "skip_h1_title": false,
   "title_cell": "Table of Contents",
   "title_sidebar": "Contents",
   "toc_cell": false,
   "toc_position": {},
   "toc_section_display": true,
   "toc_window_display": false
  }
 },
 "nbformat": 4,
 "nbformat_minor": 5
}
