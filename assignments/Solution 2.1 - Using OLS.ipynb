{
 "cells": [
  {
   "cell_type": "markdown",
   "id": "58fa49a2-ce43-40be-991f-fd4df31662a5",
   "metadata": {},
   "source": [
    "# Solution 2.1 - Using OLS\n",
    "\n",
    "## DRW & UofC Quant Foundations\n",
    "### Summer 2025\n",
    "#### Mark Hendricks\n",
    "#### hendricks@uchicago.edu"
   ]
  },
  {
   "cell_type": "markdown",
   "id": "1ff90b93",
   "metadata": {},
   "source": [
    "# Data\n",
    "* This homework uses the file, `data/multi_asset_etf_data.xlsx`.\n",
    "* Find the data in the Github repo associated with the module, (link on Canvas.)\n",
    "\n",
    "$$\\newcommand{\\spy}{\\text{spy}}$$\n",
    "$$\\newcommand{\\hyg}{\\text{hyg}}$$\n",
    "\n",
    "The data file contains...\n",
    "* Return rates, $r_t^i$, for various asset classes, (via ETFs.)\n",
    "* Most notable among these securities is SPY, the return on the S&P 500. Denote this as $r^{\\spy}_t$.\n",
    "* A separate tab gives return rates for a particular portfolio, $r_t^p$."
   ]
  },
  {
   "cell_type": "markdown",
   "id": "3d6742cb",
   "metadata": {},
   "source": [
    "# 1. Regression\n",
    "## 1. \n",
    "Estimate the regression of the portfolio return on SPY:\n",
    "\n",
    "$$r^p_t = \\alpha + \\beta r^{\\spy}_t + \\epsilon_t^{p,\\spy}$$\n",
    "\n",
    "Specifically, report your estimates of alpha, beta, and the r-squared.\n",
    "\n",
    "## 2. \n",
    "Estimate the regression of the portfolio return on SPY and on HYG, the return on high-yield\n",
    "corporate bonds, denoted as $r^{\\hyg}_t$:\n",
    "\n",
    "$$r^p_t = {\\alpha} + {\\beta}^{\\spy}r^{\\spy}_t + {\\beta}^{\\hyg}r^{\\hyg}_t + {\\epsilon}_t$$\n",
    "\n",
    "Specifically, report your estimates of alpha, the betas, and the r-squared.\n",
    "\n",
    "*Note that the parameters (such as $\\beta^{\\spy}$) in this multivariate model are not the same as used in the univariate model of part 1. \n",
    "\n",
    "## 3. \n",
    "Calculate the series of fitted regression values, sometimes referred to as $\\hat{y}$ in standard textbooks:\n",
    "\n",
    "$$\\hat{r}^p_t = \\hat{\\alpha} + \\hat{\\beta}^{\\spy}r^{\\spy}_t + \\hat{\\beta}^{\\hyg}r^{\\hyg}_t$$\n",
    "\n",
    "Your statistical package will output these fitted values for you, or you can construct them using the estimated parameters.\n",
    "\n",
    "How does this compare to the r-squared of the regression in problem 2?\n",
    "\n",
    "## 4. \n",
    "How do the SPY betas differ across the univariate and multivariate models? How does this relate to the\n",
    "correlation between $r^{\\spy}$ and $r^{\\hyg}$?\n",
    "\n",
    "## 5. \n",
    "Without doing any calculation, would you expect the sample residual of the univariate regression or multivariate regression to have higher correlation to $r^{\\hyg}$?"
   ]
  },
  {
   "cell_type": "markdown",
   "id": "c6cae081",
   "metadata": {},
   "source": [
    "***"
   ]
  },
  {
   "cell_type": "markdown",
   "id": "df231a80",
   "metadata": {},
   "source": [
    "# <span style='color:red'>Solution 1</span>"
   ]
  },
  {
   "cell_type": "code",
   "execution_count": 1,
   "id": "64999593",
   "metadata": {
    "ExecuteTime": {
     "end_time": "2021-06-24T01:37:08.632979Z",
     "start_time": "2021-06-24T01:37:08.625990Z"
    },
    "jupyter": {
     "source_hidden": true
    }
   },
   "outputs": [],
   "source": [
    "import pandas as pd\n",
    "import numpy as np\n",
    "import statsmodels.api as sm\n",
    "from sklearn.linear_model import LinearRegression\n",
    "from matplotlib import pyplot as plt"
   ]
  },
  {
   "cell_type": "code",
   "execution_count": 2,
   "id": "525981a2-e61f-4bd8-880e-01cdca1f8db9",
   "metadata": {
    "jupyter": {
     "source_hidden": true
    }
   },
   "outputs": [],
   "source": [
    "INFILE = \"../data/multi_asset_etf_data.xlsx\""
   ]
  },
  {
   "cell_type": "code",
   "execution_count": 3,
   "id": "0b8bb30e",
   "metadata": {
    "jupyter": {
     "source_hidden": true
    }
   },
   "outputs": [
    {
     "data": {
      "text/html": [
       "<div>\n",
       "<style scoped>\n",
       "    .dataframe tbody tr th:only-of-type {\n",
       "        vertical-align: middle;\n",
       "    }\n",
       "\n",
       "    .dataframe tbody tr th {\n",
       "        vertical-align: top;\n",
       "    }\n",
       "\n",
       "    .dataframe thead th {\n",
       "        text-align: right;\n",
       "    }\n",
       "</style>\n",
       "<table border=\"1\" class=\"dataframe\">\n",
       "  <thead>\n",
       "    <tr style=\"text-align: right;\">\n",
       "      <th></th>\n",
       "      <th>shortName</th>\n",
       "      <th>quoteType</th>\n",
       "      <th>currency</th>\n",
       "      <th>volume</th>\n",
       "      <th>totalAssets</th>\n",
       "      <th>longBusinessSummary</th>\n",
       "    </tr>\n",
       "    <tr>\n",
       "      <th>ticker</th>\n",
       "      <th></th>\n",
       "      <th></th>\n",
       "      <th></th>\n",
       "      <th></th>\n",
       "      <th></th>\n",
       "      <th></th>\n",
       "    </tr>\n",
       "  </thead>\n",
       "  <tbody>\n",
       "    <tr>\n",
       "      <th>SPY</th>\n",
       "      <td>SPDR S&amp;P 500</td>\n",
       "      <td>ETF</td>\n",
       "      <td>USD</td>\n",
       "      <td>50026094</td>\n",
       "      <td>572926853120</td>\n",
       "      <td>The trust seeks to achieve its investment obje...</td>\n",
       "    </tr>\n",
       "    <tr>\n",
       "      <th>EFA</th>\n",
       "      <td>iShares MSCI EAFE ETF</td>\n",
       "      <td>ETF</td>\n",
       "      <td>USD</td>\n",
       "      <td>7395415</td>\n",
       "      <td>60435103744</td>\n",
       "      <td>The fund generally will invest at least 80% of...</td>\n",
       "    </tr>\n",
       "    <tr>\n",
       "      <th>EEM</th>\n",
       "      <td>iShares MSCI Emerging Index Fun</td>\n",
       "      <td>ETF</td>\n",
       "      <td>USD</td>\n",
       "      <td>18043080</td>\n",
       "      <td>16526614528</td>\n",
       "      <td>The fund generally will invest at least 80% of...</td>\n",
       "    </tr>\n",
       "    <tr>\n",
       "      <th>PSP</th>\n",
       "      <td>Invesco Global Listed Private E</td>\n",
       "      <td>ETF</td>\n",
       "      <td>USD</td>\n",
       "      <td>21723</td>\n",
       "      <td>235239184</td>\n",
       "      <td>The fund generally will invest at least 90% of...</td>\n",
       "    </tr>\n",
       "    <tr>\n",
       "      <th>QAI</th>\n",
       "      <td>NYLI Hedge Multi-Strategy Track</td>\n",
       "      <td>ETF</td>\n",
       "      <td>USD</td>\n",
       "      <td>49670</td>\n",
       "      <td>687488448</td>\n",
       "      <td>The fund is a \"fund of funds\" which means it i...</td>\n",
       "    </tr>\n",
       "    <tr>\n",
       "      <th>HYG</th>\n",
       "      <td>iShares iBoxx $ High Yield Corp</td>\n",
       "      <td>ETF</td>\n",
       "      <td>USD</td>\n",
       "      <td>23767843</td>\n",
       "      <td>14188549120</td>\n",
       "      <td>The underlying index is a rules-based index co...</td>\n",
       "    </tr>\n",
       "    <tr>\n",
       "      <th>DBC</th>\n",
       "      <td>Invesco DB Commodity Index Trac</td>\n",
       "      <td>ETF</td>\n",
       "      <td>USD</td>\n",
       "      <td>465424</td>\n",
       "      <td>1206291584</td>\n",
       "      <td>The fund pursues its investment objective by i...</td>\n",
       "    </tr>\n",
       "    <tr>\n",
       "      <th>IYR</th>\n",
       "      <td>iShares U.S. Real Estate ETF</td>\n",
       "      <td>ETF</td>\n",
       "      <td>USD</td>\n",
       "      <td>3354686</td>\n",
       "      <td>3193291776</td>\n",
       "      <td>The fund seeks to track the investment results...</td>\n",
       "    </tr>\n",
       "    <tr>\n",
       "      <th>IEF</th>\n",
       "      <td>iShares 7-10 Year Treasury Bond</td>\n",
       "      <td>ETF</td>\n",
       "      <td>USD</td>\n",
       "      <td>7319141</td>\n",
       "      <td>34838351872</td>\n",
       "      <td>The underlying index measures the performance ...</td>\n",
       "    </tr>\n",
       "    <tr>\n",
       "      <th>BWX</th>\n",
       "      <td>SPDR Bloomberg International Tr</td>\n",
       "      <td>ETF</td>\n",
       "      <td>USD</td>\n",
       "      <td>193126</td>\n",
       "      <td>1272843392</td>\n",
       "      <td>The fund generally invests substantially all, ...</td>\n",
       "    </tr>\n",
       "    <tr>\n",
       "      <th>TIP</th>\n",
       "      <td>iShares TIPS Bond ETF</td>\n",
       "      <td>ETF</td>\n",
       "      <td>USD</td>\n",
       "      <td>1990114</td>\n",
       "      <td>13987274752</td>\n",
       "      <td>The index tracks the performance of inflation-...</td>\n",
       "    </tr>\n",
       "    <tr>\n",
       "      <th>SHV</th>\n",
       "      <td>iShares Short Treasury Bond ETF</td>\n",
       "      <td>ETF</td>\n",
       "      <td>USD</td>\n",
       "      <td>2365998</td>\n",
       "      <td>22701137920</td>\n",
       "      <td>The fund will invest at least 80% of its asset...</td>\n",
       "    </tr>\n",
       "  </tbody>\n",
       "</table>\n",
       "</div>"
      ],
      "text/plain": [
       "                              shortName quoteType currency    volume  \\\n",
       "ticker                                                                 \n",
       "SPY                        SPDR S&P 500       ETF      USD  50026094   \n",
       "EFA               iShares MSCI EAFE ETF       ETF      USD   7395415   \n",
       "EEM     iShares MSCI Emerging Index Fun       ETF      USD  18043080   \n",
       "PSP     Invesco Global Listed Private E       ETF      USD     21723   \n",
       "QAI     NYLI Hedge Multi-Strategy Track       ETF      USD     49670   \n",
       "HYG     iShares iBoxx $ High Yield Corp       ETF      USD  23767843   \n",
       "DBC     Invesco DB Commodity Index Trac       ETF      USD    465424   \n",
       "IYR        iShares U.S. Real Estate ETF       ETF      USD   3354686   \n",
       "IEF     iShares 7-10 Year Treasury Bond       ETF      USD   7319141   \n",
       "BWX     SPDR Bloomberg International Tr       ETF      USD    193126   \n",
       "TIP               iShares TIPS Bond ETF       ETF      USD   1990114   \n",
       "SHV     iShares Short Treasury Bond ETF       ETF      USD   2365998   \n",
       "\n",
       "         totalAssets                                longBusinessSummary  \n",
       "ticker                                                                   \n",
       "SPY     572926853120  The trust seeks to achieve its investment obje...  \n",
       "EFA      60435103744  The fund generally will invest at least 80% of...  \n",
       "EEM      16526614528  The fund generally will invest at least 80% of...  \n",
       "PSP        235239184  The fund generally will invest at least 90% of...  \n",
       "QAI        687488448  The fund is a \"fund of funds\" which means it i...  \n",
       "HYG      14188549120  The underlying index is a rules-based index co...  \n",
       "DBC       1206291584  The fund pursues its investment objective by i...  \n",
       "IYR       3193291776  The fund seeks to track the investment results...  \n",
       "IEF      34838351872  The underlying index measures the performance ...  \n",
       "BWX       1272843392  The fund generally invests substantially all, ...  \n",
       "TIP      13987274752  The index tracks the performance of inflation-...  \n",
       "SHV      22701137920  The fund will invest at least 80% of its asset...  "
      ]
     },
     "execution_count": 3,
     "metadata": {},
     "output_type": "execute_result"
    }
   ],
   "source": [
    "info = pd.read_excel(INFILE,sheet_name='info').set_index('ticker')\n",
    "info"
   ]
  },
  {
   "cell_type": "code",
   "execution_count": 4,
   "id": "123bfe0b",
   "metadata": {
    "ExecuteTime": {
     "end_time": "2021-06-24T01:37:08.687141Z",
     "start_time": "2021-06-24T01:37:08.635377Z"
    },
    "jupyter": {
     "source_hidden": true
    }
   },
   "outputs": [
    {
     "data": {
      "text/html": [
       "<div>\n",
       "<style scoped>\n",
       "    .dataframe tbody tr th:only-of-type {\n",
       "        vertical-align: middle;\n",
       "    }\n",
       "\n",
       "    .dataframe tbody tr th {\n",
       "        vertical-align: top;\n",
       "    }\n",
       "\n",
       "    .dataframe thead th {\n",
       "        text-align: right;\n",
       "    }\n",
       "</style>\n",
       "<table border=\"1\" class=\"dataframe\">\n",
       "  <thead>\n",
       "    <tr style=\"text-align: right;\">\n",
       "      <th></th>\n",
       "      <th>SPY</th>\n",
       "      <th>EFA</th>\n",
       "      <th>EEM</th>\n",
       "      <th>PSP</th>\n",
       "      <th>QAI</th>\n",
       "      <th>HYG</th>\n",
       "      <th>DBC</th>\n",
       "      <th>IYR</th>\n",
       "      <th>IEF</th>\n",
       "      <th>BWX</th>\n",
       "      <th>TIP</th>\n",
       "      <th>SHV</th>\n",
       "    </tr>\n",
       "    <tr>\n",
       "      <th>Date</th>\n",
       "      <th></th>\n",
       "      <th></th>\n",
       "      <th></th>\n",
       "      <th></th>\n",
       "      <th></th>\n",
       "      <th></th>\n",
       "      <th></th>\n",
       "      <th></th>\n",
       "      <th></th>\n",
       "      <th></th>\n",
       "      <th></th>\n",
       "      <th></th>\n",
       "    </tr>\n",
       "  </thead>\n",
       "  <tbody>\n",
       "    <tr>\n",
       "      <th>2010-01-31</th>\n",
       "      <td>-0.036342</td>\n",
       "      <td>-0.050651</td>\n",
       "      <td>-0.077590</td>\n",
       "      <td>-0.003329</td>\n",
       "      <td>-0.015850</td>\n",
       "      <td>-0.018329</td>\n",
       "      <td>-0.078392</td>\n",
       "      <td>-0.054225</td>\n",
       "      <td>0.023702</td>\n",
       "      <td>-0.014605</td>\n",
       "      <td>0.015303</td>\n",
       "      <td>0.000272</td>\n",
       "    </tr>\n",
       "    <tr>\n",
       "      <th>2010-02-28</th>\n",
       "      <td>0.031194</td>\n",
       "      <td>0.002667</td>\n",
       "      <td>0.017764</td>\n",
       "      <td>0.021158</td>\n",
       "      <td>-0.000374</td>\n",
       "      <td>0.018734</td>\n",
       "      <td>0.041428</td>\n",
       "      <td>0.054571</td>\n",
       "      <td>0.003318</td>\n",
       "      <td>0.002418</td>\n",
       "      <td>-0.013031</td>\n",
       "      <td>0.000018</td>\n",
       "    </tr>\n",
       "    <tr>\n",
       "      <th>2010-03-31</th>\n",
       "      <td>0.060879</td>\n",
       "      <td>0.063854</td>\n",
       "      <td>0.081109</td>\n",
       "      <td>0.079607</td>\n",
       "      <td>0.019108</td>\n",
       "      <td>0.021335</td>\n",
       "      <td>-0.004655</td>\n",
       "      <td>0.097485</td>\n",
       "      <td>-0.010568</td>\n",
       "      <td>-0.000179</td>\n",
       "      <td>-0.000058</td>\n",
       "      <td>-0.000109</td>\n",
       "    </tr>\n",
       "    <tr>\n",
       "      <th>2010-04-30</th>\n",
       "      <td>0.015470</td>\n",
       "      <td>-0.028046</td>\n",
       "      <td>-0.001662</td>\n",
       "      <td>0.018182</td>\n",
       "      <td>-0.001838</td>\n",
       "      <td>0.019245</td>\n",
       "      <td>0.039116</td>\n",
       "      <td>0.063881</td>\n",
       "      <td>0.016527</td>\n",
       "      <td>-0.014474</td>\n",
       "      <td>0.025150</td>\n",
       "      <td>-0.000063</td>\n",
       "    </tr>\n",
       "    <tr>\n",
       "      <th>2010-05-31</th>\n",
       "      <td>-0.079455</td>\n",
       "      <td>-0.111928</td>\n",
       "      <td>-0.093936</td>\n",
       "      <td>-0.128968</td>\n",
       "      <td>-0.041621</td>\n",
       "      <td>-0.046756</td>\n",
       "      <td>-0.101473</td>\n",
       "      <td>-0.056835</td>\n",
       "      <td>0.029331</td>\n",
       "      <td>-0.036446</td>\n",
       "      <td>0.001917</td>\n",
       "      <td>0.000145</td>\n",
       "    </tr>\n",
       "    <tr>\n",
       "      <th>...</th>\n",
       "      <td>...</td>\n",
       "      <td>...</td>\n",
       "      <td>...</td>\n",
       "      <td>...</td>\n",
       "      <td>...</td>\n",
       "      <td>...</td>\n",
       "      <td>...</td>\n",
       "      <td>...</td>\n",
       "      <td>...</td>\n",
       "      <td>...</td>\n",
       "      <td>...</td>\n",
       "      <td>...</td>\n",
       "    </tr>\n",
       "    <tr>\n",
       "      <th>2024-12-31</th>\n",
       "      <td>-0.024060</td>\n",
       "      <td>-0.029502</td>\n",
       "      <td>-0.016967</td>\n",
       "      <td>-0.051399</td>\n",
       "      <td>-0.015700</td>\n",
       "      <td>-0.007803</td>\n",
       "      <td>0.017227</td>\n",
       "      <td>-0.082892</td>\n",
       "      <td>-0.022584</td>\n",
       "      <td>-0.033754</td>\n",
       "      <td>-0.017144</td>\n",
       "      <td>0.004031</td>\n",
       "    </tr>\n",
       "    <tr>\n",
       "      <th>2025-01-31</th>\n",
       "      <td>0.026856</td>\n",
       "      <td>0.048009</td>\n",
       "      <td>0.021521</td>\n",
       "      <td>0.067995</td>\n",
       "      <td>0.016237</td>\n",
       "      <td>0.013605</td>\n",
       "      <td>0.027596</td>\n",
       "      <td>0.018913</td>\n",
       "      <td>0.006166</td>\n",
       "      <td>0.000935</td>\n",
       "      <td>0.013702</td>\n",
       "      <td>0.003633</td>\n",
       "    </tr>\n",
       "    <tr>\n",
       "      <th>2025-02-28</th>\n",
       "      <td>-0.012695</td>\n",
       "      <td>0.029531</td>\n",
       "      <td>0.011470</td>\n",
       "      <td>-0.040107</td>\n",
       "      <td>-0.005952</td>\n",
       "      <td>0.009703</td>\n",
       "      <td>0.001366</td>\n",
       "      <td>0.037861</td>\n",
       "      <td>0.027997</td>\n",
       "      <td>0.013991</td>\n",
       "      <td>0.021572</td>\n",
       "      <td>0.003115</td>\n",
       "    </tr>\n",
       "    <tr>\n",
       "      <th>2025-03-31</th>\n",
       "      <td>-0.055719</td>\n",
       "      <td>0.001839</td>\n",
       "      <td>0.011340</td>\n",
       "      <td>-0.060826</td>\n",
       "      <td>-0.013237</td>\n",
       "      <td>-0.010858</td>\n",
       "      <td>0.022727</td>\n",
       "      <td>-0.023382</td>\n",
       "      <td>0.003419</td>\n",
       "      <td>0.010353</td>\n",
       "      <td>0.006797</td>\n",
       "      <td>0.003343</td>\n",
       "    </tr>\n",
       "    <tr>\n",
       "      <th>2025-04-30</th>\n",
       "      <td>-0.009063</td>\n",
       "      <td>0.038174</td>\n",
       "      <td>-0.001144</td>\n",
       "      <td>-0.002497</td>\n",
       "      <td>-0.001916</td>\n",
       "      <td>0.006522</td>\n",
       "      <td>-0.068444</td>\n",
       "      <td>-0.024856</td>\n",
       "      <td>0.008983</td>\n",
       "      <td>0.057697</td>\n",
       "      <td>0.000082</td>\n",
       "      <td>0.003216</td>\n",
       "    </tr>\n",
       "  </tbody>\n",
       "</table>\n",
       "<p>184 rows × 12 columns</p>\n",
       "</div>"
      ],
      "text/plain": [
       "                 SPY       EFA       EEM       PSP       QAI       HYG  \\\n",
       "Date                                                                     \n",
       "2010-01-31 -0.036342 -0.050651 -0.077590 -0.003329 -0.015850 -0.018329   \n",
       "2010-02-28  0.031194  0.002667  0.017764  0.021158 -0.000374  0.018734   \n",
       "2010-03-31  0.060879  0.063854  0.081109  0.079607  0.019108  0.021335   \n",
       "2010-04-30  0.015470 -0.028046 -0.001662  0.018182 -0.001838  0.019245   \n",
       "2010-05-31 -0.079455 -0.111928 -0.093936 -0.128968 -0.041621 -0.046756   \n",
       "...              ...       ...       ...       ...       ...       ...   \n",
       "2024-12-31 -0.024060 -0.029502 -0.016967 -0.051399 -0.015700 -0.007803   \n",
       "2025-01-31  0.026856  0.048009  0.021521  0.067995  0.016237  0.013605   \n",
       "2025-02-28 -0.012695  0.029531  0.011470 -0.040107 -0.005952  0.009703   \n",
       "2025-03-31 -0.055719  0.001839  0.011340 -0.060826 -0.013237 -0.010858   \n",
       "2025-04-30 -0.009063  0.038174 -0.001144 -0.002497 -0.001916  0.006522   \n",
       "\n",
       "                 DBC       IYR       IEF       BWX       TIP       SHV  \n",
       "Date                                                                    \n",
       "2010-01-31 -0.078392 -0.054225  0.023702 -0.014605  0.015303  0.000272  \n",
       "2010-02-28  0.041428  0.054571  0.003318  0.002418 -0.013031  0.000018  \n",
       "2010-03-31 -0.004655  0.097485 -0.010568 -0.000179 -0.000058 -0.000109  \n",
       "2010-04-30  0.039116  0.063881  0.016527 -0.014474  0.025150 -0.000063  \n",
       "2010-05-31 -0.101473 -0.056835  0.029331 -0.036446  0.001917  0.000145  \n",
       "...              ...       ...       ...       ...       ...       ...  \n",
       "2024-12-31  0.017227 -0.082892 -0.022584 -0.033754 -0.017144  0.004031  \n",
       "2025-01-31  0.027596  0.018913  0.006166  0.000935  0.013702  0.003633  \n",
       "2025-02-28  0.001366  0.037861  0.027997  0.013991  0.021572  0.003115  \n",
       "2025-03-31  0.022727 -0.023382  0.003419  0.010353  0.006797  0.003343  \n",
       "2025-04-30 -0.068444 -0.024856  0.008983  0.057697  0.000082  0.003216  \n",
       "\n",
       "[184 rows x 12 columns]"
      ]
     },
     "execution_count": 4,
     "metadata": {},
     "output_type": "execute_result"
    }
   ],
   "source": [
    "rets = pd.read_excel(INFILE,sheet_name='total returns').set_index('Date')\n",
    "rets"
   ]
  },
  {
   "cell_type": "code",
   "execution_count": 5,
   "id": "07653af7",
   "metadata": {
    "jupyter": {
     "source_hidden": true
    }
   },
   "outputs": [
    {
     "data": {
      "text/html": [
       "<div>\n",
       "<style scoped>\n",
       "    .dataframe tbody tr th:only-of-type {\n",
       "        vertical-align: middle;\n",
       "    }\n",
       "\n",
       "    .dataframe tbody tr th {\n",
       "        vertical-align: top;\n",
       "    }\n",
       "\n",
       "    .dataframe thead th {\n",
       "        text-align: right;\n",
       "    }\n",
       "</style>\n",
       "<table border=\"1\" class=\"dataframe\">\n",
       "  <thead>\n",
       "    <tr style=\"text-align: right;\">\n",
       "      <th></th>\n",
       "      <th>portfolio</th>\n",
       "    </tr>\n",
       "    <tr>\n",
       "      <th>Date</th>\n",
       "      <th></th>\n",
       "    </tr>\n",
       "  </thead>\n",
       "  <tbody>\n",
       "    <tr>\n",
       "      <th>2010-01-31</th>\n",
       "      <td>-0.012425</td>\n",
       "    </tr>\n",
       "    <tr>\n",
       "      <th>2010-02-28</th>\n",
       "      <td>0.019668</td>\n",
       "    </tr>\n",
       "    <tr>\n",
       "      <th>2010-03-31</th>\n",
       "      <td>0.046408</td>\n",
       "    </tr>\n",
       "    <tr>\n",
       "      <th>2010-04-30</th>\n",
       "      <td>0.024188</td>\n",
       "    </tr>\n",
       "    <tr>\n",
       "      <th>2010-05-31</th>\n",
       "      <td>-0.049523</td>\n",
       "    </tr>\n",
       "    <tr>\n",
       "      <th>...</th>\n",
       "      <td>...</td>\n",
       "    </tr>\n",
       "    <tr>\n",
       "      <th>2024-12-31</th>\n",
       "      <td>-0.043144</td>\n",
       "    </tr>\n",
       "    <tr>\n",
       "      <th>2025-01-31</th>\n",
       "      <td>0.027327</td>\n",
       "    </tr>\n",
       "    <tr>\n",
       "      <th>2025-02-28</th>\n",
       "      <td>0.004950</td>\n",
       "    </tr>\n",
       "    <tr>\n",
       "      <th>2025-03-31</th>\n",
       "      <td>-0.023506</td>\n",
       "    </tr>\n",
       "    <tr>\n",
       "      <th>2025-04-30</th>\n",
       "      <td>-0.005072</td>\n",
       "    </tr>\n",
       "  </tbody>\n",
       "</table>\n",
       "<p>184 rows × 1 columns</p>\n",
       "</div>"
      ],
      "text/plain": [
       "            portfolio\n",
       "Date                 \n",
       "2010-01-31  -0.012425\n",
       "2010-02-28   0.019668\n",
       "2010-03-31   0.046408\n",
       "2010-04-30   0.024188\n",
       "2010-05-31  -0.049523\n",
       "...               ...\n",
       "2024-12-31  -0.043144\n",
       "2025-01-31   0.027327\n",
       "2025-02-28   0.004950\n",
       "2025-03-31  -0.023506\n",
       "2025-04-30  -0.005072\n",
       "\n",
       "[184 rows x 1 columns]"
      ]
     },
     "execution_count": 5,
     "metadata": {},
     "output_type": "execute_result"
    }
   ],
   "source": [
    "port =  pd.read_excel(INFILE,sheet_name='portfolio returns').set_index('Date')\n",
    "port"
   ]
  },
  {
   "cell_type": "markdown",
   "id": "7f9aa0f5",
   "metadata": {},
   "source": [
    "## <span style='color:red'>1.1</span>"
   ]
  },
  {
   "cell_type": "code",
   "execution_count": 6,
   "id": "f38047b8",
   "metadata": {
    "ExecuteTime": {
     "end_time": "2021-06-24T01:37:08.773349Z",
     "start_time": "2021-06-24T01:37:08.764291Z"
    },
    "jupyter": {
     "source_hidden": true
    }
   },
   "outputs": [
    {
     "data": {
      "text/html": [
       "<table class=\"simpletable\">\n",
       "<caption>OLS Regression Results</caption>\n",
       "<tr>\n",
       "  <th>Dep. Variable:</th>        <td>portfolio</td>    <th>  R-squared:         </th> <td>   0.757</td>\n",
       "</tr>\n",
       "<tr>\n",
       "  <th>Model:</th>                   <td>OLS</td>       <th>  Adj. R-squared:    </th> <td>   0.755</td>\n",
       "</tr>\n",
       "<tr>\n",
       "  <th>Method:</th>             <td>Least Squares</td>  <th>  F-statistic:       </th> <td>   566.2</td>\n",
       "</tr>\n",
       "<tr>\n",
       "  <th>Date:</th>             <td>Sat, 31 May 2025</td> <th>  Prob (F-statistic):</th> <td>9.12e-58</td>\n",
       "</tr>\n",
       "<tr>\n",
       "  <th>Time:</th>                 <td>14:57:58</td>     <th>  Log-Likelihood:    </th> <td>  513.29</td>\n",
       "</tr>\n",
       "<tr>\n",
       "  <th>No. Observations:</th>      <td>   184</td>      <th>  AIC:               </th> <td>  -1023.</td>\n",
       "</tr>\n",
       "<tr>\n",
       "  <th>Df Residuals:</th>          <td>   182</td>      <th>  BIC:               </th> <td>  -1016.</td>\n",
       "</tr>\n",
       "<tr>\n",
       "  <th>Df Model:</th>              <td>     1</td>      <th>                     </th>     <td> </td>   \n",
       "</tr>\n",
       "<tr>\n",
       "  <th>Covariance Type:</th>      <td>nonrobust</td>    <th>                     </th>     <td> </td>   \n",
       "</tr>\n",
       "</table>\n",
       "<table class=\"simpletable\">\n",
       "<tr>\n",
       "    <td></td>       <th>coef</th>     <th>std err</th>      <th>t</th>      <th>P>|t|</th>  <th>[0.025</th>    <th>0.975]</th>  \n",
       "</tr>\n",
       "<tr>\n",
       "  <th>const</th> <td>   -0.0017</td> <td>    0.001</td> <td>   -1.451</td> <td> 0.149</td> <td>   -0.004</td> <td>    0.001</td>\n",
       "</tr>\n",
       "<tr>\n",
       "  <th>SPY</th>   <td>    0.6270</td> <td>    0.026</td> <td>   23.796</td> <td> 0.000</td> <td>    0.575</td> <td>    0.679</td>\n",
       "</tr>\n",
       "</table>\n",
       "<table class=\"simpletable\">\n",
       "<tr>\n",
       "  <th>Omnibus:</th>       <td> 2.378</td> <th>  Durbin-Watson:     </th> <td>   2.026</td>\n",
       "</tr>\n",
       "<tr>\n",
       "  <th>Prob(Omnibus):</th> <td> 0.305</td> <th>  Jarque-Bera (JB):  </th> <td>   2.152</td>\n",
       "</tr>\n",
       "<tr>\n",
       "  <th>Skew:</th>          <td> 0.110</td> <th>  Prob(JB):          </th> <td>   0.341</td>\n",
       "</tr>\n",
       "<tr>\n",
       "  <th>Kurtosis:</th>      <td> 3.482</td> <th>  Cond. No.          </th> <td>    23.9</td>\n",
       "</tr>\n",
       "</table><br/><br/>Notes:<br/>[1] Standard Errors assume that the covariance matrix of the errors is correctly specified."
      ],
      "text/latex": [
       "\\begin{center}\n",
       "\\begin{tabular}{lclc}\n",
       "\\toprule\n",
       "\\textbf{Dep. Variable:}    &    portfolio     & \\textbf{  R-squared:         } &     0.757   \\\\\n",
       "\\textbf{Model:}            &       OLS        & \\textbf{  Adj. R-squared:    } &     0.755   \\\\\n",
       "\\textbf{Method:}           &  Least Squares   & \\textbf{  F-statistic:       } &     566.2   \\\\\n",
       "\\textbf{Date:}             & Sat, 31 May 2025 & \\textbf{  Prob (F-statistic):} &  9.12e-58   \\\\\n",
       "\\textbf{Time:}             &     14:57:58     & \\textbf{  Log-Likelihood:    } &    513.29   \\\\\n",
       "\\textbf{No. Observations:} &         184      & \\textbf{  AIC:               } &    -1023.   \\\\\n",
       "\\textbf{Df Residuals:}     &         182      & \\textbf{  BIC:               } &    -1016.   \\\\\n",
       "\\textbf{Df Model:}         &           1      & \\textbf{                     } &             \\\\\n",
       "\\textbf{Covariance Type:}  &    nonrobust     & \\textbf{                     } &             \\\\\n",
       "\\bottomrule\n",
       "\\end{tabular}\n",
       "\\begin{tabular}{lcccccc}\n",
       "               & \\textbf{coef} & \\textbf{std err} & \\textbf{t} & \\textbf{P$> |$t$|$} & \\textbf{[0.025} & \\textbf{0.975]}  \\\\\n",
       "\\midrule\n",
       "\\textbf{const} &      -0.0017  &        0.001     &    -1.451  &         0.149        &       -0.004    &        0.001     \\\\\n",
       "\\textbf{SPY}   &       0.6270  &        0.026     &    23.796  &         0.000        &        0.575    &        0.679     \\\\\n",
       "\\bottomrule\n",
       "\\end{tabular}\n",
       "\\begin{tabular}{lclc}\n",
       "\\textbf{Omnibus:}       &  2.378 & \\textbf{  Durbin-Watson:     } &    2.026  \\\\\n",
       "\\textbf{Prob(Omnibus):} &  0.305 & \\textbf{  Jarque-Bera (JB):  } &    2.152  \\\\\n",
       "\\textbf{Skew:}          &  0.110 & \\textbf{  Prob(JB):          } &    0.341  \\\\\n",
       "\\textbf{Kurtosis:}      &  3.482 & \\textbf{  Cond. No.          } &     23.9  \\\\\n",
       "\\bottomrule\n",
       "\\end{tabular}\n",
       "%\\caption{OLS Regression Results}\n",
       "\\end{center}\n",
       "\n",
       "Notes: \\newline\n",
       " [1] Standard Errors assume that the covariance matrix of the errors is correctly specified."
      ],
      "text/plain": [
       "<class 'statsmodels.iolib.summary.Summary'>\n",
       "\"\"\"\n",
       "                            OLS Regression Results                            \n",
       "==============================================================================\n",
       "Dep. Variable:              portfolio   R-squared:                       0.757\n",
       "Model:                            OLS   Adj. R-squared:                  0.755\n",
       "Method:                 Least Squares   F-statistic:                     566.2\n",
       "Date:                Sat, 31 May 2025   Prob (F-statistic):           9.12e-58\n",
       "Time:                        14:57:58   Log-Likelihood:                 513.29\n",
       "No. Observations:                 184   AIC:                            -1023.\n",
       "Df Residuals:                     182   BIC:                            -1016.\n",
       "Df Model:                           1                                         \n",
       "Covariance Type:            nonrobust                                         \n",
       "==============================================================================\n",
       "                 coef    std err          t      P>|t|      [0.025      0.975]\n",
       "------------------------------------------------------------------------------\n",
       "const         -0.0017      0.001     -1.451      0.149      -0.004       0.001\n",
       "SPY            0.6270      0.026     23.796      0.000       0.575       0.679\n",
       "==============================================================================\n",
       "Omnibus:                        2.378   Durbin-Watson:                   2.026\n",
       "Prob(Omnibus):                  0.305   Jarque-Bera (JB):                2.152\n",
       "Skew:                           0.110   Prob(JB):                        0.341\n",
       "Kurtosis:                       3.482   Cond. No.                         23.9\n",
       "==============================================================================\n",
       "\n",
       "Notes:\n",
       "[1] Standard Errors assume that the covariance matrix of the errors is correctly specified.\n",
       "\"\"\""
      ]
     },
     "execution_count": 6,
     "metadata": {},
     "output_type": "execute_result"
    }
   ],
   "source": [
    "X = sm.add_constant(rets['SPY'])\n",
    "y = port\n",
    "mod = sm.OLS(y, X).fit()\n",
    "mod.summary()"
   ]
  },
  {
   "cell_type": "markdown",
   "id": "6066272e",
   "metadata": {},
   "source": [
    "## <span style='color:red'>1.2</span>"
   ]
  },
  {
   "cell_type": "code",
   "execution_count": 7,
   "id": "67ba4840",
   "metadata": {
    "ExecuteTime": {
     "end_time": "2021-06-24T01:37:08.784226Z",
     "start_time": "2021-06-24T01:37:08.775144Z"
    },
    "jupyter": {
     "source_hidden": true
    }
   },
   "outputs": [
    {
     "data": {
      "text/html": [
       "<table class=\"simpletable\">\n",
       "<caption>OLS Regression Results</caption>\n",
       "<tr>\n",
       "  <th>Dep. Variable:</th>        <td>portfolio</td>    <th>  R-squared:         </th> <td>   0.823</td>\n",
       "</tr>\n",
       "<tr>\n",
       "  <th>Model:</th>                   <td>OLS</td>       <th>  Adj. R-squared:    </th> <td>   0.821</td>\n",
       "</tr>\n",
       "<tr>\n",
       "  <th>Method:</th>             <td>Least Squares</td>  <th>  F-statistic:       </th> <td>   419.4</td>\n",
       "</tr>\n",
       "<tr>\n",
       "  <th>Date:</th>             <td>Sat, 31 May 2025</td> <th>  Prob (F-statistic):</th> <td>1.13e-68</td>\n",
       "</tr>\n",
       "<tr>\n",
       "  <th>Time:</th>                 <td>14:57:58</td>     <th>  Log-Likelihood:    </th> <td>  542.28</td>\n",
       "</tr>\n",
       "<tr>\n",
       "  <th>No. Observations:</th>      <td>   184</td>      <th>  AIC:               </th> <td>  -1079.</td>\n",
       "</tr>\n",
       "<tr>\n",
       "  <th>Df Residuals:</th>          <td>   181</td>      <th>  BIC:               </th> <td>  -1069.</td>\n",
       "</tr>\n",
       "<tr>\n",
       "  <th>Df Model:</th>              <td>     2</td>      <th>                     </th>     <td> </td>   \n",
       "</tr>\n",
       "<tr>\n",
       "  <th>Covariance Type:</th>      <td>nonrobust</td>    <th>                     </th>     <td> </td>   \n",
       "</tr>\n",
       "</table>\n",
       "<table class=\"simpletable\">\n",
       "<tr>\n",
       "    <td></td>       <th>coef</th>     <th>std err</th>      <th>t</th>      <th>P>|t|</th>  <th>[0.025</th>    <th>0.975]</th>  \n",
       "</tr>\n",
       "<tr>\n",
       "  <th>const</th> <td>   -0.0015</td> <td>    0.001</td> <td>   -1.526</td> <td> 0.129</td> <td>   -0.003</td> <td>    0.000</td>\n",
       "</tr>\n",
       "<tr>\n",
       "  <th>SPY</th>   <td>    0.3826</td> <td>    0.037</td> <td>   10.221</td> <td> 0.000</td> <td>    0.309</td> <td>    0.456</td>\n",
       "</tr>\n",
       "<tr>\n",
       "  <th>HYG</th>   <td>    0.5766</td> <td>    0.070</td> <td>    8.187</td> <td> 0.000</td> <td>    0.438</td> <td>    0.716</td>\n",
       "</tr>\n",
       "</table>\n",
       "<table class=\"simpletable\">\n",
       "<tr>\n",
       "  <th>Omnibus:</th>       <td> 0.549</td> <th>  Durbin-Watson:     </th> <td>   2.282</td>\n",
       "</tr>\n",
       "<tr>\n",
       "  <th>Prob(Omnibus):</th> <td> 0.760</td> <th>  Jarque-Bera (JB):  </th> <td>   0.519</td>\n",
       "</tr>\n",
       "<tr>\n",
       "  <th>Skew:</th>          <td> 0.128</td> <th>  Prob(JB):          </th> <td>   0.772</td>\n",
       "</tr>\n",
       "<tr>\n",
       "  <th>Kurtosis:</th>      <td> 2.954</td> <th>  Cond. No.          </th> <td>    81.6</td>\n",
       "</tr>\n",
       "</table><br/><br/>Notes:<br/>[1] Standard Errors assume that the covariance matrix of the errors is correctly specified."
      ],
      "text/latex": [
       "\\begin{center}\n",
       "\\begin{tabular}{lclc}\n",
       "\\toprule\n",
       "\\textbf{Dep. Variable:}    &    portfolio     & \\textbf{  R-squared:         } &     0.823   \\\\\n",
       "\\textbf{Model:}            &       OLS        & \\textbf{  Adj. R-squared:    } &     0.821   \\\\\n",
       "\\textbf{Method:}           &  Least Squares   & \\textbf{  F-statistic:       } &     419.4   \\\\\n",
       "\\textbf{Date:}             & Sat, 31 May 2025 & \\textbf{  Prob (F-statistic):} &  1.13e-68   \\\\\n",
       "\\textbf{Time:}             &     14:57:58     & \\textbf{  Log-Likelihood:    } &    542.28   \\\\\n",
       "\\textbf{No. Observations:} &         184      & \\textbf{  AIC:               } &    -1079.   \\\\\n",
       "\\textbf{Df Residuals:}     &         181      & \\textbf{  BIC:               } &    -1069.   \\\\\n",
       "\\textbf{Df Model:}         &           2      & \\textbf{                     } &             \\\\\n",
       "\\textbf{Covariance Type:}  &    nonrobust     & \\textbf{                     } &             \\\\\n",
       "\\bottomrule\n",
       "\\end{tabular}\n",
       "\\begin{tabular}{lcccccc}\n",
       "               & \\textbf{coef} & \\textbf{std err} & \\textbf{t} & \\textbf{P$> |$t$|$} & \\textbf{[0.025} & \\textbf{0.975]}  \\\\\n",
       "\\midrule\n",
       "\\textbf{const} &      -0.0015  &        0.001     &    -1.526  &         0.129        &       -0.003    &        0.000     \\\\\n",
       "\\textbf{SPY}   &       0.3826  &        0.037     &    10.221  &         0.000        &        0.309    &        0.456     \\\\\n",
       "\\textbf{HYG}   &       0.5766  &        0.070     &     8.187  &         0.000        &        0.438    &        0.716     \\\\\n",
       "\\bottomrule\n",
       "\\end{tabular}\n",
       "\\begin{tabular}{lclc}\n",
       "\\textbf{Omnibus:}       &  0.549 & \\textbf{  Durbin-Watson:     } &    2.282  \\\\\n",
       "\\textbf{Prob(Omnibus):} &  0.760 & \\textbf{  Jarque-Bera (JB):  } &    0.519  \\\\\n",
       "\\textbf{Skew:}          &  0.128 & \\textbf{  Prob(JB):          } &    0.772  \\\\\n",
       "\\textbf{Kurtosis:}      &  2.954 & \\textbf{  Cond. No.          } &     81.6  \\\\\n",
       "\\bottomrule\n",
       "\\end{tabular}\n",
       "%\\caption{OLS Regression Results}\n",
       "\\end{center}\n",
       "\n",
       "Notes: \\newline\n",
       " [1] Standard Errors assume that the covariance matrix of the errors is correctly specified."
      ],
      "text/plain": [
       "<class 'statsmodels.iolib.summary.Summary'>\n",
       "\"\"\"\n",
       "                            OLS Regression Results                            \n",
       "==============================================================================\n",
       "Dep. Variable:              portfolio   R-squared:                       0.823\n",
       "Model:                            OLS   Adj. R-squared:                  0.821\n",
       "Method:                 Least Squares   F-statistic:                     419.4\n",
       "Date:                Sat, 31 May 2025   Prob (F-statistic):           1.13e-68\n",
       "Time:                        14:57:58   Log-Likelihood:                 542.28\n",
       "No. Observations:                 184   AIC:                            -1079.\n",
       "Df Residuals:                     181   BIC:                            -1069.\n",
       "Df Model:                           2                                         \n",
       "Covariance Type:            nonrobust                                         \n",
       "==============================================================================\n",
       "                 coef    std err          t      P>|t|      [0.025      0.975]\n",
       "------------------------------------------------------------------------------\n",
       "const         -0.0015      0.001     -1.526      0.129      -0.003       0.000\n",
       "SPY            0.3826      0.037     10.221      0.000       0.309       0.456\n",
       "HYG            0.5766      0.070      8.187      0.000       0.438       0.716\n",
       "==============================================================================\n",
       "Omnibus:                        0.549   Durbin-Watson:                   2.282\n",
       "Prob(Omnibus):                  0.760   Jarque-Bera (JB):                0.519\n",
       "Skew:                           0.128   Prob(JB):                        0.772\n",
       "Kurtosis:                       2.954   Cond. No.                         81.6\n",
       "==============================================================================\n",
       "\n",
       "Notes:\n",
       "[1] Standard Errors assume that the covariance matrix of the errors is correctly specified.\n",
       "\"\"\""
      ]
     },
     "execution_count": 7,
     "metadata": {},
     "output_type": "execute_result"
    }
   ],
   "source": [
    "X = sm.add_constant(rets[['SPY', 'HYG']])\n",
    "y = port\n",
    "mod_multi = sm.OLS(y, X).fit()\n",
    "mod_multi.summary()"
   ]
  },
  {
   "cell_type": "markdown",
   "id": "3ebc65a6",
   "metadata": {},
   "source": [
    "Notice that the beta on SPY is much lower now that we include CL1. Also note that the R-squared is much higher."
   ]
  },
  {
   "cell_type": "markdown",
   "id": "17c05202",
   "metadata": {},
   "source": [
    "## <span style='color:red'>1.3</span>"
   ]
  },
  {
   "cell_type": "markdown",
   "id": "a51059f6",
   "metadata": {},
   "source": [
    "The squared correlation is exactly the R^2, as R^2 captures the correlation of Portfolio's return and the combined space spanned by both regressors."
   ]
  },
  {
   "cell_type": "code",
   "execution_count": 8,
   "id": "0ecdae84",
   "metadata": {
    "ExecuteTime": {
     "end_time": "2021-06-24T01:37:08.788236Z",
     "start_time": "2021-06-24T01:37:08.784889Z"
    },
    "jupyter": {
     "source_hidden": true
    }
   },
   "outputs": [
    {
     "name": "stdout",
     "output_type": "stream",
     "text": [
      "Correlation between portfolio and replication: 90.69%.\n",
      "Square of this correlation is 82.25%\n",
      "which equals the R-squared.\n"
     ]
    }
   ],
   "source": [
    "corr_port = port.corrwith(mod.fittedvalues).values[0]\n",
    "corr_port_multi = port.corrwith(mod_multi.fittedvalues).values[0]\n",
    "print(f'Correlation between portfolio and replication: {corr_port_multi:.2%}.')\n",
    "print(f'Square of this correlation is {corr_port_multi**2:.2%}\\nwhich equals the R-squared.')"
   ]
  },
  {
   "cell_type": "markdown",
   "id": "75bff20e",
   "metadata": {},
   "source": [
    "## <span style='color:red'>1.4</span>"
   ]
  },
  {
   "cell_type": "code",
   "execution_count": 9,
   "id": "a8e99782",
   "metadata": {
    "ExecuteTime": {
     "end_time": "2021-06-24T01:37:08.791609Z",
     "start_time": "2021-06-24T01:37:08.789012Z"
    },
    "jupyter": {
     "source_hidden": true
    }
   },
   "outputs": [
    {
     "name": "stdout",
     "output_type": "stream",
     "text": [
      "Correlation between SPY and HYG is 79.8%\n"
     ]
    }
   ],
   "source": [
    "TICKreg1 = 'SPY'\n",
    "TICKreg2 = 'HYG'\n",
    "corrREGS = rets[TICKreg2].corr(rets[TICKreg1])\n",
    "print(f'Correlation between {TICKreg1} and {TICKreg2} is {corrREGS:.1%}')"
   ]
  },
  {
   "cell_type": "markdown",
   "id": "521c8c3f",
   "metadata": {},
   "source": [
    "The beta for SPY in (2) is much smaller than in (1). This is because HYG and SPY are significantly correlated, therefore a large proportion of the variation in the Portfolio return which was being attributed to SPY (in eq 1) was actually better explained by HYG. Thus, in eq (2) this gets attributed more directly to HYG, and less is attributed to SPY."
   ]
  },
  {
   "cell_type": "markdown",
   "id": "496aa5a8",
   "metadata": {},
   "source": [
    "## <span style='color:red'>1.5</span>"
   ]
  },
  {
   "cell_type": "markdown",
   "id": "8ca8bf0d",
   "metadata": {},
   "source": [
    "Without doing calculation, the intuition is that the second regression includes HYG as a regressor. Sample residuals are always uncorrelated (in-sample) to the regressors. Thus, in this regression we know the sample residual will have zero correlation to HYG. In the first regression, HYG was not a regressor, so it may have substantial correlation to the sample residual.\n",
    "\n",
    "For population residuals, $\\epsilon$, we still expect much smaller correlation to HYG in the second regression, though this population residual may still have some correlation to HYG."
   ]
  },
  {
   "cell_type": "code",
   "execution_count": 10,
   "id": "bbd72fda",
   "metadata": {
    "ExecuteTime": {
     "end_time": "2021-06-24T01:37:08.794778Z",
     "start_time": "2021-06-24T01:37:08.792287Z"
    },
    "jupyter": {
     "source_hidden": true
    }
   },
   "outputs": [
    {
     "name": "stdout",
     "output_type": "stream",
     "text": [
      "Correlation between HYG and the sample residual:\n",
      "Univariate = SPY: 31.35%\n",
      "Multivariate = SPY and HYG: -0.00%\n"
     ]
    }
   ],
   "source": [
    "print(f'Correlation between {TICKreg2} and the sample residual:\\nUnivariate = {TICKreg1}: {rets[TICKreg2].corr(mod.resid):.2%}')\n",
    "print(f'Multivariate = {TICKreg1} and {TICKreg2}: {rets[TICKreg2].corr(mod_multi.resid):.2%}')"
   ]
  },
  {
   "cell_type": "markdown",
   "id": "9218dd8d",
   "metadata": {},
   "source": [
    "***"
   ]
  },
  {
   "cell_type": "markdown",
   "id": "6f523d10",
   "metadata": {},
   "source": [
    "# 2. Decomposing and Replicating"
   ]
  },
  {
   "cell_type": "markdown",
   "id": "8588ea56",
   "metadata": {},
   "source": [
    "## 1.\n",
    "The portfolio return, $r_t^p$, is a combination of the base assets that are provided here. Use linear regression to uncover which weights were used in constructing the portfolio.\n",
    "\n",
    "$$r_t^p = \\alpha +\\left(\\boldsymbol{\\beta}\\right)' \\boldsymbol{r}_t + \\epsilon_t$$\n",
    "\n",
    "where $\\boldsymbol{r}$ denotes the vector of returns for the individual securities.\n",
    "* What does the regression find were the original weights?\n",
    "* How precise is the estimation? Consider the R-squared and t-stats.\n",
    "\n",
    "*Feel free to include an $\\alpha$ in this model, even though you know the portfolio is an exact function of the individual securities. The estimation should find $\\alpha$ of (nearly) zero.*\n",
    "\n",
    "\n",
    "## 2.\n",
    "\n",
    "$$\\newcommand{\\targ}{EEM}$$\n",
    "\n",
    "Suppose that we want to mimic a return, **EEM** using the other returns. Run the following regression–but\n",
    "do so **only using data through the end of 2022.**\n",
    "\n",
    "$$r_t^{\\targ} = \\alpha +\\left(\\boldsymbol{\\beta}^{\\boldsymbol{r}}\\right)' \\boldsymbol{r}_t + \\epsilon_t$$\n",
    "\n",
    "where $\\boldsymbol{r}$ denotes the vector of returns for the other securities, excluding the target, **EEM**.\n",
    "\n",
    "#### (a) \n",
    "Report the r-squared and the estimate of the vector, $\\boldsymbol{\\beta}$.\n",
    "\n",
    "#### (b) \n",
    "Report the t-stats of the explanatory returns. Which have absolute value greater than 2?\n",
    "\n",
    "#### (c) \n",
    "Plot the returns of **EEM** along with the replication values.\n",
    "\n",
    "## 3.\n",
    "Perhaps the replication results in the previous problem are overstated given that they estimated the parameters within a sample and then evaluated how well the result fit in the same sample. This is known as in-sample fit.\n",
    "\n",
    "Using the estimates through **2022**, (the α and βˆ from the previous problem,) calculate the out-of-sample (OOS) values of the replication, using the **2023-2024** returns, denoted $\\boldsymbol{r}_t^{\\text{oos}}$:\n",
    "\n",
    "$$\\hat{r}_t^{\\targ} = \\left(\\widehat{\\boldsymbol{\\beta}}^{\\boldsymbol{r}}\\right)' \\boldsymbol{r}_t^{\\text{oos}}$$\n",
    "\n",
    "#### (a) \n",
    "What is the correlation between $\\hat{r}_t^{\\targ}$ and $\\boldsymbol{r}_t^{\\text{oos}}$?\n",
    "\n",
    "#### (b) \n",
    "How does this compare to the r-squared from the regression above based on in-sample data, (through 2020?)"
   ]
  },
  {
   "cell_type": "markdown",
   "id": "9546d710",
   "metadata": {},
   "source": [
    "***"
   ]
  },
  {
   "cell_type": "markdown",
   "id": "f2d2b1cd",
   "metadata": {},
   "source": [
    "# <span style='color:red'>Solution 2</span>"
   ]
  },
  {
   "cell_type": "markdown",
   "id": "6dc043a0",
   "metadata": {},
   "source": [
    "## <span style='color:red'>2.1</span>"
   ]
  },
  {
   "cell_type": "code",
   "execution_count": 11,
   "id": "61a8e6bf",
   "metadata": {
    "ExecuteTime": {
     "end_time": "2021-06-24T01:37:08.805042Z",
     "start_time": "2021-06-24T01:37:08.800384Z"
    },
    "jupyter": {
     "source_hidden": true
    }
   },
   "outputs": [
    {
     "data": {
      "text/html": [
       "<style type=\"text/css\">\n",
       "</style>\n",
       "<table id=\"T_3b3b0\">\n",
       "  <thead>\n",
       "    <tr>\n",
       "      <th class=\"blank level0\" >&nbsp;</th>\n",
       "      <th id=\"T_3b3b0_level0_col0\" class=\"col_heading level0 col0\" >IEF</th>\n",
       "      <th id=\"T_3b3b0_level0_col1\" class=\"col_heading level0 col1\" >QAI</th>\n",
       "      <th id=\"T_3b3b0_level0_col2\" class=\"col_heading level0 col2\" >IYR</th>\n",
       "      <th id=\"T_3b3b0_level0_col3\" class=\"col_heading level0 col3\" >PSP</th>\n",
       "      <th id=\"T_3b3b0_level0_col4\" class=\"col_heading level0 col4\" >SHV</th>\n",
       "      <th id=\"T_3b3b0_level0_col5\" class=\"col_heading level0 col5\" >const</th>\n",
       "      <th id=\"T_3b3b0_level0_col6\" class=\"col_heading level0 col6\" >HYG</th>\n",
       "      <th id=\"T_3b3b0_level0_col7\" class=\"col_heading level0 col7\" >BWX</th>\n",
       "      <th id=\"T_3b3b0_level0_col8\" class=\"col_heading level0 col8\" >TIP</th>\n",
       "      <th id=\"T_3b3b0_level0_col9\" class=\"col_heading level0 col9\" >SPY</th>\n",
       "      <th id=\"T_3b3b0_level0_col10\" class=\"col_heading level0 col10\" >DBC</th>\n",
       "      <th id=\"T_3b3b0_level0_col11\" class=\"col_heading level0 col11\" >EFA</th>\n",
       "      <th id=\"T_3b3b0_level0_col12\" class=\"col_heading level0 col12\" >EEM</th>\n",
       "    </tr>\n",
       "  </thead>\n",
       "  <tbody>\n",
       "    <tr>\n",
       "      <th id=\"T_3b3b0_level0_row0\" class=\"row_heading level0 row0\" >weights</th>\n",
       "      <td id=\"T_3b3b0_row0_col0\" class=\"data row0 col0\" >0.25</td>\n",
       "      <td id=\"T_3b3b0_row0_col1\" class=\"data row0 col1\" >0.25</td>\n",
       "      <td id=\"T_3b3b0_row0_col2\" class=\"data row0 col2\" >0.25</td>\n",
       "      <td id=\"T_3b3b0_row0_col3\" class=\"data row0 col3\" >0.25</td>\n",
       "      <td id=\"T_3b3b0_row0_col4\" class=\"data row0 col4\" >0.00</td>\n",
       "      <td id=\"T_3b3b0_row0_col5\" class=\"data row0 col5\" >0.00</td>\n",
       "      <td id=\"T_3b3b0_row0_col6\" class=\"data row0 col6\" >-0.00</td>\n",
       "      <td id=\"T_3b3b0_row0_col7\" class=\"data row0 col7\" >-0.00</td>\n",
       "      <td id=\"T_3b3b0_row0_col8\" class=\"data row0 col8\" >-0.00</td>\n",
       "      <td id=\"T_3b3b0_row0_col9\" class=\"data row0 col9\" >-0.00</td>\n",
       "      <td id=\"T_3b3b0_row0_col10\" class=\"data row0 col10\" >-0.00</td>\n",
       "      <td id=\"T_3b3b0_row0_col11\" class=\"data row0 col11\" >-0.00</td>\n",
       "      <td id=\"T_3b3b0_row0_col12\" class=\"data row0 col12\" >-0.00</td>\n",
       "    </tr>\n",
       "  </tbody>\n",
       "</table>\n"
      ],
      "text/plain": [
       "<pandas.io.formats.style.Styler at 0x146cdf620>"
      ]
     },
     "metadata": {},
     "output_type": "display_data"
    },
    {
     "data": {
      "text/html": [
       "<table class=\"simpletable\">\n",
       "<caption>OLS Regression Results</caption>\n",
       "<tr>\n",
       "  <th>Dep. Variable:</th>        <td>portfolio</td>    <th>  R-squared:         </th>  <td>   1.000</td> \n",
       "</tr>\n",
       "<tr>\n",
       "  <th>Model:</th>                   <td>OLS</td>       <th>  Adj. R-squared:    </th>  <td>   1.000</td> \n",
       "</tr>\n",
       "<tr>\n",
       "  <th>Method:</th>             <td>Least Squares</td>  <th>  F-statistic:       </th>  <td>1.830e+29</td>\n",
       "</tr>\n",
       "<tr>\n",
       "  <th>Date:</th>             <td>Sat, 31 May 2025</td> <th>  Prob (F-statistic):</th>   <td>  0.00</td>  \n",
       "</tr>\n",
       "<tr>\n",
       "  <th>Time:</th>                 <td>14:57:59</td>     <th>  Log-Likelihood:    </th>  <td>  6337.7</td> \n",
       "</tr>\n",
       "<tr>\n",
       "  <th>No. Observations:</th>      <td>   184</td>      <th>  AIC:               </th> <td>-1.265e+04</td>\n",
       "</tr>\n",
       "<tr>\n",
       "  <th>Df Residuals:</th>          <td>   171</td>      <th>  BIC:               </th> <td>-1.261e+04</td>\n",
       "</tr>\n",
       "<tr>\n",
       "  <th>Df Model:</th>              <td>    12</td>      <th>                     </th>      <td> </td>    \n",
       "</tr>\n",
       "<tr>\n",
       "  <th>Covariance Type:</th>      <td>nonrobust</td>    <th>                     </th>      <td> </td>    \n",
       "</tr>\n",
       "</table>\n",
       "<table class=\"simpletable\">\n",
       "<tr>\n",
       "    <td></td>       <th>coef</th>     <th>std err</th>      <th>t</th>      <th>P>|t|</th>  <th>[0.025</th>    <th>0.975]</th>  \n",
       "</tr>\n",
       "<tr>\n",
       "  <th>const</th> <td> 2.008e-16</td> <td> 2.64e-17</td> <td>    7.596</td> <td> 0.000</td> <td> 1.49e-16</td> <td> 2.53e-16</td>\n",
       "</tr>\n",
       "<tr>\n",
       "  <th>SPY</th>   <td>-3.886e-16</td> <td> 1.38e-15</td> <td>   -0.282</td> <td> 0.778</td> <td>-3.11e-15</td> <td> 2.33e-15</td>\n",
       "</tr>\n",
       "<tr>\n",
       "  <th>EFA</th>   <td>-7.494e-16</td> <td> 1.32e-15</td> <td>   -0.566</td> <td> 0.572</td> <td>-3.36e-15</td> <td> 1.86e-15</td>\n",
       "</tr>\n",
       "<tr>\n",
       "  <th>EEM</th>   <td>-8.743e-16</td> <td> 7.96e-16</td> <td>   -1.098</td> <td> 0.274</td> <td>-2.45e-15</td> <td> 6.98e-16</td>\n",
       "</tr>\n",
       "<tr>\n",
       "  <th>PSP</th>   <td>    0.2500</td> <td> 9.83e-16</td> <td> 2.54e+14</td> <td> 0.000</td> <td>    0.250</td> <td>    0.250</td>\n",
       "</tr>\n",
       "<tr>\n",
       "  <th>QAI</th>   <td>    0.2500</td> <td> 3.65e-15</td> <td> 6.85e+13</td> <td> 0.000</td> <td>    0.250</td> <td>    0.250</td>\n",
       "</tr>\n",
       "<tr>\n",
       "  <th>HYG</th>   <td>-7.633e-17</td> <td> 1.93e-15</td> <td>   -0.039</td> <td> 0.969</td> <td>-3.89e-15</td> <td> 3.74e-15</td>\n",
       "</tr>\n",
       "<tr>\n",
       "  <th>DBC</th>   <td>-6.592e-16</td> <td> 6.03e-16</td> <td>   -1.093</td> <td> 0.276</td> <td>-1.85e-15</td> <td> 5.31e-16</td>\n",
       "</tr>\n",
       "<tr>\n",
       "  <th>IYR</th>   <td>    0.2500</td> <td> 7.82e-16</td> <td>  3.2e+14</td> <td> 0.000</td> <td>    0.250</td> <td>    0.250</td>\n",
       "</tr>\n",
       "<tr>\n",
       "  <th>IEF</th>   <td>    0.2500</td> <td> 2.52e-15</td> <td> 9.93e+13</td> <td> 0.000</td> <td>    0.250</td> <td>    0.250</td>\n",
       "</tr>\n",
       "<tr>\n",
       "  <th>BWX</th>   <td>-2.314e-16</td> <td> 1.63e-15</td> <td>   -0.142</td> <td> 0.887</td> <td>-3.45e-15</td> <td> 2.98e-15</td>\n",
       "</tr>\n",
       "<tr>\n",
       "  <th>TIP</th>   <td>-3.608e-16</td> <td> 2.79e-15</td> <td>   -0.129</td> <td> 0.897</td> <td>-5.88e-15</td> <td> 5.16e-15</td>\n",
       "</tr>\n",
       "<tr>\n",
       "  <th>SHV</th>   <td> 4.441e-16</td> <td> 1.39e-14</td> <td>    0.032</td> <td> 0.975</td> <td>-2.71e-14</td> <td> 2.79e-14</td>\n",
       "</tr>\n",
       "</table>\n",
       "<table class=\"simpletable\">\n",
       "<tr>\n",
       "  <th>Omnibus:</th>       <td>22.658</td> <th>  Durbin-Watson:     </th> <td>   1.244</td>\n",
       "</tr>\n",
       "<tr>\n",
       "  <th>Prob(Omnibus):</th> <td> 0.000</td> <th>  Jarque-Bera (JB):  </th> <td>  45.597</td>\n",
       "</tr>\n",
       "<tr>\n",
       "  <th>Skew:</th>          <td>-0.580</td> <th>  Prob(JB):          </th> <td>1.26e-10</td>\n",
       "</tr>\n",
       "<tr>\n",
       "  <th>Kurtosis:</th>      <td> 5.145</td> <th>  Cond. No.          </th> <td>    686.</td>\n",
       "</tr>\n",
       "</table><br/><br/>Notes:<br/>[1] Standard Errors assume that the covariance matrix of the errors is correctly specified."
      ],
      "text/latex": [
       "\\begin{center}\n",
       "\\begin{tabular}{lclc}\n",
       "\\toprule\n",
       "\\textbf{Dep. Variable:}    &    portfolio     & \\textbf{  R-squared:         } &     1.000   \\\\\n",
       "\\textbf{Model:}            &       OLS        & \\textbf{  Adj. R-squared:    } &     1.000   \\\\\n",
       "\\textbf{Method:}           &  Least Squares   & \\textbf{  F-statistic:       } & 1.830e+29   \\\\\n",
       "\\textbf{Date:}             & Sat, 31 May 2025 & \\textbf{  Prob (F-statistic):} &     0.00    \\\\\n",
       "\\textbf{Time:}             &     14:57:59     & \\textbf{  Log-Likelihood:    } &    6337.7   \\\\\n",
       "\\textbf{No. Observations:} &         184      & \\textbf{  AIC:               } & -1.265e+04  \\\\\n",
       "\\textbf{Df Residuals:}     &         171      & \\textbf{  BIC:               } & -1.261e+04  \\\\\n",
       "\\textbf{Df Model:}         &          12      & \\textbf{                     } &             \\\\\n",
       "\\textbf{Covariance Type:}  &    nonrobust     & \\textbf{                     } &             \\\\\n",
       "\\bottomrule\n",
       "\\end{tabular}\n",
       "\\begin{tabular}{lcccccc}\n",
       "               & \\textbf{coef} & \\textbf{std err} & \\textbf{t} & \\textbf{P$> |$t$|$} & \\textbf{[0.025} & \\textbf{0.975]}  \\\\\n",
       "\\midrule\n",
       "\\textbf{const} &    2.008e-16  &     2.64e-17     &     7.596  &         0.000        &     1.49e-16    &     2.53e-16     \\\\\n",
       "\\textbf{SPY}   &   -3.886e-16  &     1.38e-15     &    -0.282  &         0.778        &    -3.11e-15    &     2.33e-15     \\\\\n",
       "\\textbf{EFA}   &   -7.494e-16  &     1.32e-15     &    -0.566  &         0.572        &    -3.36e-15    &     1.86e-15     \\\\\n",
       "\\textbf{EEM}   &   -8.743e-16  &     7.96e-16     &    -1.098  &         0.274        &    -2.45e-15    &     6.98e-16     \\\\\n",
       "\\textbf{PSP}   &       0.2500  &     9.83e-16     &  2.54e+14  &         0.000        &        0.250    &        0.250     \\\\\n",
       "\\textbf{QAI}   &       0.2500  &     3.65e-15     &  6.85e+13  &         0.000        &        0.250    &        0.250     \\\\\n",
       "\\textbf{HYG}   &   -7.633e-17  &     1.93e-15     &    -0.039  &         0.969        &    -3.89e-15    &     3.74e-15     \\\\\n",
       "\\textbf{DBC}   &   -6.592e-16  &     6.03e-16     &    -1.093  &         0.276        &    -1.85e-15    &     5.31e-16     \\\\\n",
       "\\textbf{IYR}   &       0.2500  &     7.82e-16     &   3.2e+14  &         0.000        &        0.250    &        0.250     \\\\\n",
       "\\textbf{IEF}   &       0.2500  &     2.52e-15     &  9.93e+13  &         0.000        &        0.250    &        0.250     \\\\\n",
       "\\textbf{BWX}   &   -2.314e-16  &     1.63e-15     &    -0.142  &         0.887        &    -3.45e-15    &     2.98e-15     \\\\\n",
       "\\textbf{TIP}   &   -3.608e-16  &     2.79e-15     &    -0.129  &         0.897        &    -5.88e-15    &     5.16e-15     \\\\\n",
       "\\textbf{SHV}   &    4.441e-16  &     1.39e-14     &     0.032  &         0.975        &    -2.71e-14    &     2.79e-14     \\\\\n",
       "\\bottomrule\n",
       "\\end{tabular}\n",
       "\\begin{tabular}{lclc}\n",
       "\\textbf{Omnibus:}       & 22.658 & \\textbf{  Durbin-Watson:     } &    1.244  \\\\\n",
       "\\textbf{Prob(Omnibus):} &  0.000 & \\textbf{  Jarque-Bera (JB):  } &   45.597  \\\\\n",
       "\\textbf{Skew:}          & -0.580 & \\textbf{  Prob(JB):          } & 1.26e-10  \\\\\n",
       "\\textbf{Kurtosis:}      &  5.145 & \\textbf{  Cond. No.          } &     686.  \\\\\n",
       "\\bottomrule\n",
       "\\end{tabular}\n",
       "%\\caption{OLS Regression Results}\n",
       "\\end{center}\n",
       "\n",
       "Notes: \\newline\n",
       " [1] Standard Errors assume that the covariance matrix of the errors is correctly specified."
      ],
      "text/plain": [
       "<class 'statsmodels.iolib.summary.Summary'>\n",
       "\"\"\"\n",
       "                            OLS Regression Results                            \n",
       "==============================================================================\n",
       "Dep. Variable:              portfolio   R-squared:                       1.000\n",
       "Model:                            OLS   Adj. R-squared:                  1.000\n",
       "Method:                 Least Squares   F-statistic:                 1.830e+29\n",
       "Date:                Sat, 31 May 2025   Prob (F-statistic):               0.00\n",
       "Time:                        14:57:59   Log-Likelihood:                 6337.7\n",
       "No. Observations:                 184   AIC:                        -1.265e+04\n",
       "Df Residuals:                     171   BIC:                        -1.261e+04\n",
       "Df Model:                          12                                         \n",
       "Covariance Type:            nonrobust                                         \n",
       "==============================================================================\n",
       "                 coef    std err          t      P>|t|      [0.025      0.975]\n",
       "------------------------------------------------------------------------------\n",
       "const       2.008e-16   2.64e-17      7.596      0.000    1.49e-16    2.53e-16\n",
       "SPY        -3.886e-16   1.38e-15     -0.282      0.778   -3.11e-15    2.33e-15\n",
       "EFA        -7.494e-16   1.32e-15     -0.566      0.572   -3.36e-15    1.86e-15\n",
       "EEM        -8.743e-16   7.96e-16     -1.098      0.274   -2.45e-15    6.98e-16\n",
       "PSP            0.2500   9.83e-16   2.54e+14      0.000       0.250       0.250\n",
       "QAI            0.2500   3.65e-15   6.85e+13      0.000       0.250       0.250\n",
       "HYG        -7.633e-17   1.93e-15     -0.039      0.969   -3.89e-15    3.74e-15\n",
       "DBC        -6.592e-16   6.03e-16     -1.093      0.276   -1.85e-15    5.31e-16\n",
       "IYR            0.2500   7.82e-16    3.2e+14      0.000       0.250       0.250\n",
       "IEF            0.2500   2.52e-15   9.93e+13      0.000       0.250       0.250\n",
       "BWX        -2.314e-16   1.63e-15     -0.142      0.887   -3.45e-15    2.98e-15\n",
       "TIP        -3.608e-16   2.79e-15     -0.129      0.897   -5.88e-15    5.16e-15\n",
       "SHV         4.441e-16   1.39e-14      0.032      0.975   -2.71e-14    2.79e-14\n",
       "==============================================================================\n",
       "Omnibus:                       22.658   Durbin-Watson:                   1.244\n",
       "Prob(Omnibus):                  0.000   Jarque-Bera (JB):               45.597\n",
       "Skew:                          -0.580   Prob(JB):                     1.26e-10\n",
       "Kurtosis:                       5.145   Cond. No.                         686.\n",
       "==============================================================================\n",
       "\n",
       "Notes:\n",
       "[1] Standard Errors assume that the covariance matrix of the errors is correctly specified.\n",
       "\"\"\""
      ]
     },
     "execution_count": 11,
     "metadata": {},
     "output_type": "execute_result"
    }
   ],
   "source": [
    "X = sm.add_constant(rets)\n",
    "y = port\n",
    "mod_exact = sm.OLS(y, X).fit()\n",
    "display(mod_exact.params.to_frame().rename(columns={0:'weights'}).sort_values('weights',ascending=False).T.style.format('{:.2f}'))\n",
    "mod_exact.summary()"
   ]
  },
  {
   "cell_type": "markdown",
   "id": "cc7aeb96",
   "metadata": {},
   "source": [
    "## <span style='color:red'>2.2</span>"
   ]
  },
  {
   "cell_type": "code",
   "execution_count": 12,
   "id": "361c6330",
   "metadata": {
    "ExecuteTime": {
     "end_time": "2021-06-24T01:37:08.812093Z",
     "start_time": "2021-06-24T01:37:08.806286Z"
    },
    "jupyter": {
     "source_hidden": true
    }
   },
   "outputs": [
    {
     "data": {
      "text/html": [
       "<table class=\"simpletable\">\n",
       "<caption>OLS Regression Results</caption>\n",
       "<tr>\n",
       "  <th>Dep. Variable:</th>           <td>EEM</td>       <th>  R-squared:         </th> <td>   0.768</td>\n",
       "</tr>\n",
       "<tr>\n",
       "  <th>Model:</th>                   <td>OLS</td>       <th>  Adj. R-squared:    </th> <td>   0.750</td>\n",
       "</tr>\n",
       "<tr>\n",
       "  <th>Method:</th>             <td>Least Squares</td>  <th>  F-statistic:       </th> <td>   43.24</td>\n",
       "</tr>\n",
       "<tr>\n",
       "  <th>Date:</th>             <td>Sat, 31 May 2025</td> <th>  Prob (F-statistic):</th> <td>3.73e-40</td>\n",
       "</tr>\n",
       "<tr>\n",
       "  <th>Time:</th>                 <td>14:57:59</td>     <th>  Log-Likelihood:    </th> <td>  348.19</td>\n",
       "</tr>\n",
       "<tr>\n",
       "  <th>No. Observations:</th>      <td>   156</td>      <th>  AIC:               </th> <td>  -672.4</td>\n",
       "</tr>\n",
       "<tr>\n",
       "  <th>Df Residuals:</th>          <td>   144</td>      <th>  BIC:               </th> <td>  -635.8</td>\n",
       "</tr>\n",
       "<tr>\n",
       "  <th>Df Model:</th>              <td>    11</td>      <th>                     </th>     <td> </td>   \n",
       "</tr>\n",
       "<tr>\n",
       "  <th>Covariance Type:</th>      <td>nonrobust</td>    <th>                     </th>     <td> </td>   \n",
       "</tr>\n",
       "</table>\n",
       "<table class=\"simpletable\">\n",
       "<tr>\n",
       "    <td></td>       <th>coef</th>     <th>std err</th>      <th>t</th>      <th>P>|t|</th>  <th>[0.025</th>    <th>0.975]</th>  \n",
       "</tr>\n",
       "<tr>\n",
       "  <th>const</th> <td>    0.0014</td> <td>    0.003</td> <td>    0.521</td> <td> 0.603</td> <td>   -0.004</td> <td>    0.007</td>\n",
       "</tr>\n",
       "<tr>\n",
       "  <th>SPY</th>   <td>   -0.2393</td> <td>    0.154</td> <td>   -1.555</td> <td> 0.122</td> <td>   -0.543</td> <td>    0.065</td>\n",
       "</tr>\n",
       "<tr>\n",
       "  <th>EFA</th>   <td>    0.5338</td> <td>    0.145</td> <td>    3.672</td> <td> 0.000</td> <td>    0.246</td> <td>    0.821</td>\n",
       "</tr>\n",
       "<tr>\n",
       "  <th>PSP</th>   <td>    0.0037</td> <td>    0.119</td> <td>    0.031</td> <td> 0.975</td> <td>   -0.232</td> <td>    0.240</td>\n",
       "</tr>\n",
       "<tr>\n",
       "  <th>QAI</th>   <td>    1.1292</td> <td>    0.375</td> <td>    3.015</td> <td> 0.003</td> <td>    0.389</td> <td>    1.870</td>\n",
       "</tr>\n",
       "<tr>\n",
       "  <th>HYG</th>   <td>   -0.0069</td> <td>    0.194</td> <td>   -0.036</td> <td> 0.972</td> <td>   -0.391</td> <td>    0.377</td>\n",
       "</tr>\n",
       "<tr>\n",
       "  <th>DBC</th>   <td>    0.0212</td> <td>    0.062</td> <td>    0.340</td> <td> 0.734</td> <td>   -0.102</td> <td>    0.145</td>\n",
       "</tr>\n",
       "<tr>\n",
       "  <th>IYR</th>   <td>    0.0785</td> <td>    0.082</td> <td>    0.953</td> <td> 0.342</td> <td>   -0.084</td> <td>    0.241</td>\n",
       "</tr>\n",
       "<tr>\n",
       "  <th>IEF</th>   <td>   -0.8116</td> <td>    0.272</td> <td>   -2.988</td> <td> 0.003</td> <td>   -1.349</td> <td>   -0.275</td>\n",
       "</tr>\n",
       "<tr>\n",
       "  <th>BWX</th>   <td>    0.5937</td> <td>    0.169</td> <td>    3.504</td> <td> 0.001</td> <td>    0.259</td> <td>    0.929</td>\n",
       "</tr>\n",
       "<tr>\n",
       "  <th>TIP</th>   <td>    0.2940</td> <td>    0.295</td> <td>    0.997</td> <td> 0.321</td> <td>   -0.289</td> <td>    0.877</td>\n",
       "</tr>\n",
       "<tr>\n",
       "  <th>SHV</th>   <td>    0.6187</td> <td>    2.745</td> <td>    0.225</td> <td> 0.822</td> <td>   -4.807</td> <td>    6.044</td>\n",
       "</tr>\n",
       "</table>\n",
       "<table class=\"simpletable\">\n",
       "<tr>\n",
       "  <th>Omnibus:</th>       <td> 0.066</td> <th>  Durbin-Watson:     </th> <td>   2.334</td>\n",
       "</tr>\n",
       "<tr>\n",
       "  <th>Prob(Omnibus):</th> <td> 0.967</td> <th>  Jarque-Bera (JB):  </th> <td>   0.209</td>\n",
       "</tr>\n",
       "<tr>\n",
       "  <th>Skew:</th>          <td> 0.005</td> <th>  Prob(JB):          </th> <td>   0.901</td>\n",
       "</tr>\n",
       "<tr>\n",
       "  <th>Kurtosis:</th>      <td> 2.821</td> <th>  Cond. No.          </th> <td>1.27e+03</td>\n",
       "</tr>\n",
       "</table><br/><br/>Notes:<br/>[1] Standard Errors assume that the covariance matrix of the errors is correctly specified.<br/>[2] The condition number is large, 1.27e+03. This might indicate that there are<br/>strong multicollinearity or other numerical problems."
      ],
      "text/latex": [
       "\\begin{center}\n",
       "\\begin{tabular}{lclc}\n",
       "\\toprule\n",
       "\\textbf{Dep. Variable:}    &       EEM        & \\textbf{  R-squared:         } &     0.768   \\\\\n",
       "\\textbf{Model:}            &       OLS        & \\textbf{  Adj. R-squared:    } &     0.750   \\\\\n",
       "\\textbf{Method:}           &  Least Squares   & \\textbf{  F-statistic:       } &     43.24   \\\\\n",
       "\\textbf{Date:}             & Sat, 31 May 2025 & \\textbf{  Prob (F-statistic):} &  3.73e-40   \\\\\n",
       "\\textbf{Time:}             &     14:57:59     & \\textbf{  Log-Likelihood:    } &    348.19   \\\\\n",
       "\\textbf{No. Observations:} &         156      & \\textbf{  AIC:               } &    -672.4   \\\\\n",
       "\\textbf{Df Residuals:}     &         144      & \\textbf{  BIC:               } &    -635.8   \\\\\n",
       "\\textbf{Df Model:}         &          11      & \\textbf{                     } &             \\\\\n",
       "\\textbf{Covariance Type:}  &    nonrobust     & \\textbf{                     } &             \\\\\n",
       "\\bottomrule\n",
       "\\end{tabular}\n",
       "\\begin{tabular}{lcccccc}\n",
       "               & \\textbf{coef} & \\textbf{std err} & \\textbf{t} & \\textbf{P$> |$t$|$} & \\textbf{[0.025} & \\textbf{0.975]}  \\\\\n",
       "\\midrule\n",
       "\\textbf{const} &       0.0014  &        0.003     &     0.521  &         0.603        &       -0.004    &        0.007     \\\\\n",
       "\\textbf{SPY}   &      -0.2393  &        0.154     &    -1.555  &         0.122        &       -0.543    &        0.065     \\\\\n",
       "\\textbf{EFA}   &       0.5338  &        0.145     &     3.672  &         0.000        &        0.246    &        0.821     \\\\\n",
       "\\textbf{PSP}   &       0.0037  &        0.119     &     0.031  &         0.975        &       -0.232    &        0.240     \\\\\n",
       "\\textbf{QAI}   &       1.1292  &        0.375     &     3.015  &         0.003        &        0.389    &        1.870     \\\\\n",
       "\\textbf{HYG}   &      -0.0069  &        0.194     &    -0.036  &         0.972        &       -0.391    &        0.377     \\\\\n",
       "\\textbf{DBC}   &       0.0212  &        0.062     &     0.340  &         0.734        &       -0.102    &        0.145     \\\\\n",
       "\\textbf{IYR}   &       0.0785  &        0.082     &     0.953  &         0.342        &       -0.084    &        0.241     \\\\\n",
       "\\textbf{IEF}   &      -0.8116  &        0.272     &    -2.988  &         0.003        &       -1.349    &       -0.275     \\\\\n",
       "\\textbf{BWX}   &       0.5937  &        0.169     &     3.504  &         0.001        &        0.259    &        0.929     \\\\\n",
       "\\textbf{TIP}   &       0.2940  &        0.295     &     0.997  &         0.321        &       -0.289    &        0.877     \\\\\n",
       "\\textbf{SHV}   &       0.6187  &        2.745     &     0.225  &         0.822        &       -4.807    &        6.044     \\\\\n",
       "\\bottomrule\n",
       "\\end{tabular}\n",
       "\\begin{tabular}{lclc}\n",
       "\\textbf{Omnibus:}       &  0.066 & \\textbf{  Durbin-Watson:     } &    2.334  \\\\\n",
       "\\textbf{Prob(Omnibus):} &  0.967 & \\textbf{  Jarque-Bera (JB):  } &    0.209  \\\\\n",
       "\\textbf{Skew:}          &  0.005 & \\textbf{  Prob(JB):          } &    0.901  \\\\\n",
       "\\textbf{Kurtosis:}      &  2.821 & \\textbf{  Cond. No.          } & 1.27e+03  \\\\\n",
       "\\bottomrule\n",
       "\\end{tabular}\n",
       "%\\caption{OLS Regression Results}\n",
       "\\end{center}\n",
       "\n",
       "Notes: \\newline\n",
       " [1] Standard Errors assume that the covariance matrix of the errors is correctly specified. \\newline\n",
       " [2] The condition number is large, 1.27e+03. This might indicate that there are \\newline\n",
       " strong multicollinearity or other numerical problems."
      ],
      "text/plain": [
       "<class 'statsmodels.iolib.summary.Summary'>\n",
       "\"\"\"\n",
       "                            OLS Regression Results                            \n",
       "==============================================================================\n",
       "Dep. Variable:                    EEM   R-squared:                       0.768\n",
       "Model:                            OLS   Adj. R-squared:                  0.750\n",
       "Method:                 Least Squares   F-statistic:                     43.24\n",
       "Date:                Sat, 31 May 2025   Prob (F-statistic):           3.73e-40\n",
       "Time:                        14:57:59   Log-Likelihood:                 348.19\n",
       "No. Observations:                 156   AIC:                            -672.4\n",
       "Df Residuals:                     144   BIC:                            -635.8\n",
       "Df Model:                          11                                         \n",
       "Covariance Type:            nonrobust                                         \n",
       "==============================================================================\n",
       "                 coef    std err          t      P>|t|      [0.025      0.975]\n",
       "------------------------------------------------------------------------------\n",
       "const          0.0014      0.003      0.521      0.603      -0.004       0.007\n",
       "SPY           -0.2393      0.154     -1.555      0.122      -0.543       0.065\n",
       "EFA            0.5338      0.145      3.672      0.000       0.246       0.821\n",
       "PSP            0.0037      0.119      0.031      0.975      -0.232       0.240\n",
       "QAI            1.1292      0.375      3.015      0.003       0.389       1.870\n",
       "HYG           -0.0069      0.194     -0.036      0.972      -0.391       0.377\n",
       "DBC            0.0212      0.062      0.340      0.734      -0.102       0.145\n",
       "IYR            0.0785      0.082      0.953      0.342      -0.084       0.241\n",
       "IEF           -0.8116      0.272     -2.988      0.003      -1.349      -0.275\n",
       "BWX            0.5937      0.169      3.504      0.001       0.259       0.929\n",
       "TIP            0.2940      0.295      0.997      0.321      -0.289       0.877\n",
       "SHV            0.6187      2.745      0.225      0.822      -4.807       6.044\n",
       "==============================================================================\n",
       "Omnibus:                        0.066   Durbin-Watson:                   2.334\n",
       "Prob(Omnibus):                  0.967   Jarque-Bera (JB):                0.209\n",
       "Skew:                           0.005   Prob(JB):                        0.901\n",
       "Kurtosis:                       2.821   Cond. No.                     1.27e+03\n",
       "==============================================================================\n",
       "\n",
       "Notes:\n",
       "[1] Standard Errors assume that the covariance matrix of the errors is correctly specified.\n",
       "[2] The condition number is large, 1.27e+03. This might indicate that there are\n",
       "strong multicollinearity or other numerical problems.\n",
       "\"\"\""
      ]
     },
     "execution_count": 12,
     "metadata": {},
     "output_type": "execute_result"
    }
   ],
   "source": [
    "T1 = '2022'\n",
    "T2 = '2023'\n",
    "TICKrep = 'EEM'\n",
    "\n",
    "rets_IS = rets.loc[:T1,:]\n",
    "\n",
    "X = sm.add_constant(rets_IS.drop(columns=TICKrep))\n",
    "y = rets_IS[[TICKrep]]\n",
    "mod_replicate = sm.OLS(y, X).fit()\n",
    "mod_replicate.summary()"
   ]
  },
  {
   "cell_type": "markdown",
   "id": "edf9133b",
   "metadata": {},
   "source": [
    "### The R-squared is reported in the table above.\n",
    "\n",
    "Note that while we can estimate an R-squared, it doesn't make much sense in a regression without an intercept. \n",
    "- It does not need to be between 0 and 1.\n",
    "\n",
    "The stats-models Python package puts a \"Note\" at the bottom of the table above reminding users of that fact."
   ]
  },
  {
   "cell_type": "markdown",
   "id": "89b8d8cf",
   "metadata": {},
   "source": [
    "### See the t-stats below, in descending order:"
   ]
  },
  {
   "cell_type": "code",
   "execution_count": 13,
   "id": "c1a9857e",
   "metadata": {
    "jupyter": {
     "source_hidden": true
    }
   },
   "outputs": [
    {
     "data": {
      "text/html": [
       "<style type=\"text/css\">\n",
       "</style>\n",
       "<table id=\"T_22f21\">\n",
       "  <thead>\n",
       "    <tr>\n",
       "      <th class=\"blank level0\" >&nbsp;</th>\n",
       "      <th id=\"T_22f21_level0_col0\" class=\"col_heading level0 col0\" >EFA</th>\n",
       "      <th id=\"T_22f21_level0_col1\" class=\"col_heading level0 col1\" >BWX</th>\n",
       "      <th id=\"T_22f21_level0_col2\" class=\"col_heading level0 col2\" >QAI</th>\n",
       "      <th id=\"T_22f21_level0_col3\" class=\"col_heading level0 col3\" >TIP</th>\n",
       "      <th id=\"T_22f21_level0_col4\" class=\"col_heading level0 col4\" >IYR</th>\n",
       "      <th id=\"T_22f21_level0_col5\" class=\"col_heading level0 col5\" >const</th>\n",
       "      <th id=\"T_22f21_level0_col6\" class=\"col_heading level0 col6\" >DBC</th>\n",
       "      <th id=\"T_22f21_level0_col7\" class=\"col_heading level0 col7\" >SHV</th>\n",
       "      <th id=\"T_22f21_level0_col8\" class=\"col_heading level0 col8\" >PSP</th>\n",
       "      <th id=\"T_22f21_level0_col9\" class=\"col_heading level0 col9\" >HYG</th>\n",
       "      <th id=\"T_22f21_level0_col10\" class=\"col_heading level0 col10\" >SPY</th>\n",
       "      <th id=\"T_22f21_level0_col11\" class=\"col_heading level0 col11\" >IEF</th>\n",
       "    </tr>\n",
       "  </thead>\n",
       "  <tbody>\n",
       "    <tr>\n",
       "      <th id=\"T_22f21_level0_row0\" class=\"row_heading level0 row0\" >t-stats</th>\n",
       "      <td id=\"T_22f21_row0_col0\" class=\"data row0 col0\" >3.7</td>\n",
       "      <td id=\"T_22f21_row0_col1\" class=\"data row0 col1\" >3.5</td>\n",
       "      <td id=\"T_22f21_row0_col2\" class=\"data row0 col2\" >3.0</td>\n",
       "      <td id=\"T_22f21_row0_col3\" class=\"data row0 col3\" >1.0</td>\n",
       "      <td id=\"T_22f21_row0_col4\" class=\"data row0 col4\" >1.0</td>\n",
       "      <td id=\"T_22f21_row0_col5\" class=\"data row0 col5\" >0.5</td>\n",
       "      <td id=\"T_22f21_row0_col6\" class=\"data row0 col6\" >0.3</td>\n",
       "      <td id=\"T_22f21_row0_col7\" class=\"data row0 col7\" >0.2</td>\n",
       "      <td id=\"T_22f21_row0_col8\" class=\"data row0 col8\" >0.0</td>\n",
       "      <td id=\"T_22f21_row0_col9\" class=\"data row0 col9\" >-0.0</td>\n",
       "      <td id=\"T_22f21_row0_col10\" class=\"data row0 col10\" >-1.6</td>\n",
       "      <td id=\"T_22f21_row0_col11\" class=\"data row0 col11\" >-3.0</td>\n",
       "    </tr>\n",
       "  </tbody>\n",
       "</table>\n"
      ],
      "text/plain": [
       "<pandas.io.formats.style.Styler at 0x1463a5f90>"
      ]
     },
     "execution_count": 13,
     "metadata": {},
     "output_type": "execute_result"
    }
   ],
   "source": [
    "mod_replicate.tvalues.sort_values(ascending=False).to_frame().rename(columns={0:'t-stats'}).T.style.format('{:.1f}')"
   ]
  },
  {
   "cell_type": "code",
   "execution_count": 14,
   "id": "8022080d",
   "metadata": {
    "jupyter": {
     "source_hidden": true
    }
   },
   "outputs": [
    {
     "data": {
      "image/png": "[encoded data removed]",
      "text/plain": [
       "<Figure size 1200x500 with 1 Axes>"
      ]
     },
     "metadata": {},
     "output_type": "display_data"
    }
   ],
   "source": [
    "pd.concat([y, mod_replicate.fittedvalues.rename('IS Replication')], axis=1).plot(figsize=(12, 5))\n",
    "plt.show()"
   ]
  },
  {
   "cell_type": "markdown",
   "id": "91f417bb",
   "metadata": {},
   "source": [
    "## 2.3"
   ]
  },
  {
   "cell_type": "code",
   "execution_count": 15,
   "id": "c91f5ce1",
   "metadata": {
    "ExecuteTime": {
     "end_time": "2021-06-24T01:37:08.826712Z",
     "start_time": "2021-06-24T01:37:08.822348Z"
    },
    "jupyter": {
     "source_hidden": true
    }
   },
   "outputs": [],
   "source": [
    "reg = LinearRegression(fit_intercept=True).fit(X,y)\n",
    "fit_comp_IS = pd.concat([y,pd.DataFrame(reg.predict(X),index=y.index)],axis=1).rename(columns={0:'IS'})\n",
    "corr_IS = fit_comp_IS.corr().iloc[0,1]"
   ]
  },
  {
   "cell_type": "code",
   "execution_count": 16,
   "id": "83a05412",
   "metadata": {
    "jupyter": {
     "source_hidden": true
    }
   },
   "outputs": [],
   "source": [
    "rets_OOS = rets.loc[T2:,:]\n",
    "X = sm.add_constant(rets_OOS.drop(columns=TICKrep))\n",
    "y = rets_OOS[[TICKrep]]\n",
    "\n",
    "fit_comp_OOS = pd.concat([y,pd.DataFrame(reg.predict(X),index=y.index)],axis=1).rename(columns={0:'OOS'})\n",
    "corr_OOS = fit_comp_OOS.corr().iloc[0,1]"
   ]
  },
  {
   "cell_type": "code",
   "execution_count": 17,
   "id": "a49649a4",
   "metadata": {
    "jupyter": {
     "source_hidden": true
    }
   },
   "outputs": [
    {
     "name": "stdout",
     "output_type": "stream",
     "text": [
      "Correlation between EEM and Replicating Portfolio\n",
      "In-Sample: 87.6%\n",
      "Out-of-Sample: 81.9%\n"
     ]
    }
   ],
   "source": [
    "print(f'Correlation between {TICKrep} and Replicating Portfolio')\n",
    "print(f'In-Sample: {corr_IS:.1%}')\n",
    "print(f'Out-of-Sample: {corr_OOS:.1%}')"
   ]
  },
  {
   "cell_type": "code",
   "execution_count": 18,
   "id": "cb6df89c",
   "metadata": {
    "jupyter": {
     "source_hidden": true
    }
   },
   "outputs": [
    {
     "data": {
      "image/png": "[encoded data removed]",
      "text/plain": [
       "<Figure size 1200x500 with 1 Axes>"
      ]
     },
     "metadata": {},
     "output_type": "display_data"
    }
   ],
   "source": [
    "fit_comp_OOS.plot(figsize=(12, 5))\n",
    "plt.show()"
   ]
  }
 ],
 "metadata": {
  "hide_input": true,
  "kernelspec": {
   "display_name": "Python 3 (ipykernel)",
   "language": "python",
   "name": "python3"
  },
  "language_info": {
   "codemirror_mode": {
    "name": "ipython",
    "version": 3
   },
   "file_extension": ".py",
   "mimetype": "text/x-python",
   "name": "python",
   "nbconvert_exporter": "python",
   "pygments_lexer": "ipython3",
   "version": "3.13.1"
  },
  "toc": {
   "base_numbering": 1,
   "nav_menu": {},
   "number_sections": false,
   "sideBar": true,
   "skip_h1_title": false,
   "title_cell": "Table of Contents",
   "title_sidebar": "Contents",
   "toc_cell": false,
   "toc_position": {},
   "toc_section_display": true,
   "toc_window_display": false
  },
  "varInspector": {
   "cols": {
    "lenName": 16,
    "lenType": 16,
    "lenVar": 40
   },
   "kernels_config": {
    "python": {
     "delete_cmd_postfix": "",
     "delete_cmd_prefix": "del ",
     "library": "var_list.py",
     "varRefreshCmd": "print(var_dic_list())"
    },
    "r": {
     "delete_cmd_postfix": ") ",
     "delete_cmd_prefix": "rm(",
     "library": "var_list.r",
     "varRefreshCmd": "cat(var_dic_list()) "
    }
   },
   "types_to_exclude": [
    "module",
    "function",
    "builtin_function_or_method",
    "instance",
    "_Feature"
   ],
   "window_display": false
  }
 },
 "nbformat": 4,
 "nbformat_minor": 5
}
