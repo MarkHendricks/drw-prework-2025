{
 "cells": [
  {
   "cell_type": "markdown",
   "id": "3e412d28",
   "metadata": {},
   "source": [
    "# Assignment 3.1 - Money Market Rates\n",
    "\n",
    "## DRW & UofC Quant Foundations\n",
    "### Summer 2025\n",
    "#### Mark Hendricks\n",
    "#### hendricks@uchicago.edu"
   ]
  },
  {
   "cell_type": "markdown",
   "id": "d7450480",
   "metadata": {},
   "source": [
    "***"
   ]
  },
  {
   "cell_type": "markdown",
   "id": "ce67f158",
   "metadata": {},
   "source": [
    "# Data\n",
    "\n",
    "Use the data in `data/ref_rates.xlsx` to explore several key money-market rates.\n",
    "* SOFR\n",
    "* Fed funds\n",
    "* 3-month T-bill yield"
   ]
  },
  {
   "cell_type": "markdown",
   "id": "47daec9b",
   "metadata": {},
   "source": [
    "***"
   ]
  },
  {
   "cell_type": "markdown",
   "id": "ad24a0ed",
   "metadata": {},
   "source": [
    "# 1. Exploring Money-Market Rates"
   ]
  },
  {
   "cell_type": "markdown",
   "id": "d5afaddc",
   "metadata": {
    "jp-MarkdownHeadingCollapsed": true
   },
   "source": [
    "### 1.\n",
    "Plot the time series.\n",
    "\n",
    "### 2.\n",
    "Calculate the correlation between the three rates (filtering to the dates for which they all have reported values.)\n",
    "\n",
    "Do this correlation analysis for the data in\n",
    "* levels (as provided)\n",
    "* differences (day-over-day changes)\n",
    "\n",
    "### 3.\n",
    "\n",
    "Estimate an autoregression for SOFR:\n",
    "\n",
    "$$r_{t} = \\alpha + \\beta\\, r_{t-1} + \\epsilon_{t}$$\n",
    "\n",
    "Report the estimated regression beta and r-squared.\n",
    "\n",
    "Comment on what this regression tells us about the nature of interest rates. \n",
    "* That is, can we forecast the next period's rate? \n",
    "* Does the series have **autocorrelation**?\n",
    "\n",
    "### 4.\n",
    "\n",
    "Estimate an autoregression for returns of the S&P 500 ETF, `SPY`, rather than using SOFR. Get data from \n",
    "* `data/spy_data.xlsx`\n",
    "\n",
    "Are SPY returns autocorrelated? And SPY prices?"
   ]
  },
  {
   "cell_type": "markdown",
   "id": "368179c6",
   "metadata": {},
   "source": [
    "***"
   ]
  }
 ],
 "metadata": {
  "hide_input": false,
  "kernelspec": {
   "display_name": "Python 3 (ipykernel)",
   "language": "python",
   "name": "python3"
  },
  "language_info": {
   "codemirror_mode": {
    "name": "ipython",
    "version": 3
   },
   "file_extension": ".py",
   "mimetype": "text/x-python",
   "name": "python",
   "nbconvert_exporter": "python",
   "pygments_lexer": "ipython3",
   "version": "3.9.6"
  }
 },
 "nbformat": 4,
 "nbformat_minor": 5
}
