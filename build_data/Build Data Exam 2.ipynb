{
 "cells": [
  {
   "cell_type": "code",
   "execution_count": 1,
   "id": "e0a06d85",
   "metadata": {},
   "outputs": [],
   "source": [
    "import pandas as pd\n",
    "import numpy as np\n",
    "\n",
    "import yfinance as yf\n",
    "import pandas_datareader as pdr"
   ]
  },
  {
   "cell_type": "markdown",
   "id": "ba02c2c5",
   "metadata": {},
   "source": [
    "# Inflation Data"
   ]
  },
  {
   "cell_type": "code",
   "execution_count": 2,
   "id": "75661751",
   "metadata": {},
   "outputs": [],
   "source": [
    "STARTDATE = '2015-01-01'\n",
    "ENDDATE = '2025-05-31'\n",
    "\n",
    "startdate = pd.to_datetime(STARTDATE)\n",
    "enddate = pd.to_datetime(ENDDATE)\n",
    "\n",
    "ticks = ['CPIAUCSL']\n",
    "labels = ['inflation']\n",
    "\n",
    "rawdata = pdr.DataReader(ticks,'fred',startdate,enddate)\n",
    "rawdata.index.name = 'date'\n",
    "rawdata.index = pd.to_datetime(rawdata.index)\n",
    "rawdata.columns = labels"
   ]
  },
  {
   "cell_type": "code",
   "execution_count": 3,
   "id": "ff188932",
   "metadata": {},
   "outputs": [
    {
     "name": "stderr",
     "output_type": "stream",
     "text": [
      "/var/folders/zx/3v_qt0957xzg3nqtnkv007d00000gn/T/ipykernel_24392/377805030.py:10: FutureWarning: 'M' is deprecated and will be removed in a future version, please use 'ME' instead.\n",
      "  cpi = rawdata.resample(FREQcode).agg('last')\n"
     ]
    }
   ],
   "source": [
    "FREQ = 12\n",
    "\n",
    "if FREQ == 4:\n",
    "    FREQcode = 'Q'\n",
    "elif FREQ == 1:\n",
    "    FREQcode = 'Y'\n",
    "elif FREQ==12:\n",
    "    FREQcode = 'M'\n",
    "\n",
    "cpi = rawdata.resample(FREQcode).agg('last')\n",
    "cpi.dropna(inplace=True)\n",
    "\n",
    "\n",
    "HORZ = FREQ\n",
    "inflation = (cpi / cpi.shift(HORZ) -1).dropna()\n",
    "\n",
    "inflation.index.name = 'date'"
   ]
  },
  {
   "cell_type": "markdown",
   "id": "2f1021c7",
   "metadata": {},
   "source": [
    "# Security Returns"
   ]
  },
  {
   "cell_type": "code",
   "execution_count": 4,
   "id": "18b8f484",
   "metadata": {
    "scrolled": true
   },
   "outputs": [
    {
     "name": "stdout",
     "output_type": "stream",
     "text": [
      "YF.download() has changed argument auto_adjust default to True\n"
     ]
    },
    {
     "name": "stderr",
     "output_type": "stream",
     "text": [
      "[*********************100%***********************]  11 of 11 completed\n",
      "/var/folders/zx/3v_qt0957xzg3nqtnkv007d00000gn/T/ipykernel_24392/3665669303.py:5: FutureWarning: 'M' is deprecated and will be removed in a future version, please use 'ME' instead.\n",
      "  prices = df.resample('M').last()\n"
     ]
    }
   ],
   "source": [
    "tickers = ['SPY','EFA','EEM','PSP','QAI','HYG','DBC','IYR','IEF','BWX','TIP']\n",
    "\n",
    "df = yf.download(tickers, start=STARTDATE, end=ENDDATE)['Close']\n",
    "\n",
    "prices = df.resample('M').last()\n",
    "rets = prices.pct_change()\n",
    "\n",
    "# keep simple by dropping months where any security has nan\n",
    "rets.dropna(inplace=True)\n",
    "# reorder columns to match info tab, not alphabetical\n",
    "rets = rets[tickers]\n",
    "\n",
    "rets.index.name = 'date'"
   ]
  },
  {
   "cell_type": "markdown",
   "id": "edb63e5d",
   "metadata": {},
   "source": [
    "# Align"
   ]
  },
  {
   "cell_type": "code",
   "execution_count": 5,
   "id": "69f97c07",
   "metadata": {},
   "outputs": [],
   "source": [
    "inflation, rets = inflation.align(rets,join='inner',axis=0)"
   ]
  },
  {
   "cell_type": "markdown",
   "id": "9ff6e0eb",
   "metadata": {},
   "source": [
    "# Export Data"
   ]
  },
  {
   "cell_type": "code",
   "execution_count": 6,
   "id": "260b3095",
   "metadata": {},
   "outputs": [],
   "source": [
    "with pd.ExcelWriter('../data/exam_3_data.xlsx') as writer:  \n",
    "#    inflation.to_excel(writer, sheet_name='inflation')\n",
    "    rets.to_excel(writer, sheet_name='returns')"
   ]
  }
 ],
 "metadata": {
  "hide_input": false,
  "kernelspec": {
   "display_name": "Python 3 (ipykernel)",
   "language": "python",
   "name": "python3"
  },
  "language_info": {
   "codemirror_mode": {
    "name": "ipython",
    "version": 3
   },
   "file_extension": ".py",
   "mimetype": "text/x-python",
   "name": "python",
   "nbconvert_exporter": "python",
   "pygments_lexer": "ipython3",
   "version": "3.13.1"
  }
 },
 "nbformat": 4,
 "nbformat_minor": 5
}
