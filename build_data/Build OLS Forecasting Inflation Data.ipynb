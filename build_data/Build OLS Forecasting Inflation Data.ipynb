{
 "cells": [
  {
   "cell_type": "code",
   "execution_count": 1,
   "id": "e0a06d85",
   "metadata": {},
   "outputs": [],
   "source": [
    "import pandas as pd\n",
    "import numpy as np\n",
    "\n",
    "import yfinance as yf\n",
    "import pandas_datareader as pdr"
   ]
  },
  {
   "cell_type": "code",
   "execution_count": 2,
   "id": "75661751",
   "metadata": {},
   "outputs": [],
   "source": [
    "STARTDATE = '1959-01-01'\n",
    "ENDDATE = '2025-04-30'\n",
    "\n",
    "startdate = pd.to_datetime(STARTDATE)\n",
    "enddate = pd.to_datetime(ENDDATE)\n",
    "\n",
    "ticks = ['CPIAUCSL','M2SL']\n",
    "labels = ['CPI','M2']\n",
    "\n",
    "rawdata = pdr.DataReader(ticks,'fred',startdate,enddate)\n",
    "rawdata.index.name = 'date'\n",
    "rawdata.index = pd.to_datetime(rawdata.index)\n",
    "rawdata.columns = labels"
   ]
  },
  {
   "cell_type": "code",
   "execution_count": 3,
   "id": "ff188932",
   "metadata": {},
   "outputs": [
    {
     "name": "stderr",
     "output_type": "stream",
     "text": [
      "/var/folders/zx/3v_qt0957xzg3nqtnkv007d00000gn/T/ipykernel_62271/2175100591.py:10: FutureWarning: 'M' is deprecated and will be removed in a future version, please use 'ME' instead.\n",
      "  macro = rawdata.resample(FREQcode).agg('last')\n"
     ]
    }
   ],
   "source": [
    "FREQ = 12\n",
    "\n",
    "if FREQ == 4:\n",
    "    FREQcode = 'Q'\n",
    "elif FREQ == 1:\n",
    "    FREQcode = 'Y'\n",
    "elif FREQ==12:\n",
    "    FREQcode = 'M'\n",
    "\n",
    "macro = rawdata.resample(FREQcode).agg('last')\n",
    "macro.dropna(inplace=True)"
   ]
  },
  {
   "cell_type": "code",
   "execution_count": 4,
   "id": "64cd7392",
   "metadata": {},
   "outputs": [
    {
     "name": "stdout",
     "output_type": "stream",
     "text": [
      "YF.download() has changed argument auto_adjust default to True\n"
     ]
    },
    {
     "name": "stderr",
     "output_type": "stream",
     "text": [
      "[*********************100%***********************]  1 of 1 completed\n",
      "/var/folders/zx/3v_qt0957xzg3nqtnkv007d00000gn/T/ipykernel_62271/1740371069.py:7: FutureWarning: 'M' is deprecated and will be removed in a future version, please use 'ME' instead.\n",
      "  data = data.resample('M').agg('last')\n"
     ]
    }
   ],
   "source": [
    "tickers = ['SPY']\n",
    "\n",
    "START = \"1990-01-01\"\n",
    "END = \"2025-04-30\"\n",
    "\n",
    "data = yf.download(tickers, start=START, end=END)['Close']\n",
    "data = data.resample('M').agg('last')\n",
    "data.name = 'SPY'\n",
    "\n",
    "spy = data.pct_change().dropna()"
   ]
  },
  {
   "cell_type": "code",
   "execution_count": 5,
   "id": "260b3095",
   "metadata": {},
   "outputs": [],
   "source": [
    "with pd.ExcelWriter('../data/ols_forecasting_inflation_data.xlsx') as writer:  \n",
    "    macro.to_excel(writer, sheet_name='macro')\n",
    "    spy.to_excel(writer, sheet_name='s&p500')"
   ]
  }
 ],
 "metadata": {
  "hide_input": false,
  "kernelspec": {
   "display_name": "Python 3 (ipykernel)",
   "language": "python",
   "name": "python3"
  },
  "language_info": {
   "codemirror_mode": {
    "name": "ipython",
    "version": 3
   },
   "file_extension": ".py",
   "mimetype": "text/x-python",
   "name": "python",
   "nbconvert_exporter": "python",
   "pygments_lexer": "ipython3",
   "version": "3.13.1"
  }
 },
 "nbformat": 4,
 "nbformat_minor": 5
}
