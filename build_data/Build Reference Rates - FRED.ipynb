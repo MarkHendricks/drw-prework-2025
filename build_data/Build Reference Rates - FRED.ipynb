{
 "cells": [
  {
   "cell_type": "code",
   "execution_count": 1,
   "id": "52650dc1",
   "metadata": {},
   "outputs": [],
   "source": [
    "import pandas as pd\n",
    "import pandas_datareader as pdr"
   ]
  },
  {
   "cell_type": "code",
   "execution_count": 2,
   "id": "6f5858aa",
   "metadata": {},
   "outputs": [],
   "source": [
    "SAVE_DATA = True\n",
    "\n",
    "STARTDATE = '2018-01-01'\n",
    "ENDDATE = '2025-06-08'"
   ]
  },
  {
   "cell_type": "code",
   "execution_count": 3,
   "id": "8d21483e",
   "metadata": {},
   "outputs": [],
   "source": [
    "startdate = pd.to_datetime(STARTDATE)\n",
    "enddate = pd.to_datetime(ENDDATE)\n",
    "\n",
    "ticks = ['DTB3','DFF','SOFR']\n",
    "\n",
    "rates = pdr.DataReader(ticks,'fred',startdate,enddate)\n",
    "rates.index.name = 'date'\n",
    "rates.index = pd.to_datetime(rates.index)"
   ]
  },
  {
   "cell_type": "code",
   "execution_count": 4,
   "id": "e62d2edd",
   "metadata": {},
   "outputs": [
    {
     "data": {
      "text/html": [
       "<div>\n",
       "<style scoped>\n",
       "    .dataframe tbody tr th:only-of-type {\n",
       "        vertical-align: middle;\n",
       "    }\n",
       "\n",
       "    .dataframe tbody tr th {\n",
       "        vertical-align: top;\n",
       "    }\n",
       "\n",
       "    .dataframe thead th {\n",
       "        text-align: right;\n",
       "    }\n",
       "</style>\n",
       "<table border=\"1\" class=\"dataframe\">\n",
       "  <thead>\n",
       "    <tr style=\"text-align: right;\">\n",
       "      <th></th>\n",
       "      <th>ticker (FRED)</th>\n",
       "    </tr>\n",
       "    <tr>\n",
       "      <th>description</th>\n",
       "      <th></th>\n",
       "    </tr>\n",
       "  </thead>\n",
       "  <tbody>\n",
       "    <tr>\n",
       "      <th>Tbill 3-month</th>\n",
       "      <td>DTB3</td>\n",
       "    </tr>\n",
       "    <tr>\n",
       "      <th>Fed Funds Effective</th>\n",
       "      <td>DFF</td>\n",
       "    </tr>\n",
       "    <tr>\n",
       "      <th>SOFR</th>\n",
       "      <td>SOFR</td>\n",
       "    </tr>\n",
       "  </tbody>\n",
       "</table>\n",
       "</div>"
      ],
      "text/plain": [
       "                    ticker (FRED)\n",
       "description                      \n",
       "Tbill 3-month                DTB3\n",
       "Fed Funds Effective           DFF\n",
       "SOFR                         SOFR"
      ]
     },
     "execution_count": 4,
     "metadata": {},
     "output_type": "execute_result"
    }
   ],
   "source": [
    "info = pd.DataFrame(index=ticks, data=['Tbill 3-month','Fed Funds Effective','SOFR'])\n",
    "info.index.name = 'ticker (FRED)'\n",
    "info.columns = ['description']\n",
    "info = info.reset_index().set_index('description')\n",
    "info"
   ]
  },
  {
   "cell_type": "code",
   "execution_count": 5,
   "id": "34a96bd7",
   "metadata": {},
   "outputs": [],
   "source": [
    "if SAVE_DATA:\n",
    "    outfile = '../data/ref_rates.xlsx'\n",
    "    with pd.ExcelWriter(outfile) as writer:  \n",
    "        info.to_excel(writer, sheet_name= 'info', index=True)\n",
    "        rates.to_excel(writer, sheet_name= 'data', index=True)"
   ]
  }
 ],
 "metadata": {
  "hide_input": false,
  "kernelspec": {
   "display_name": "Python 3 (ipykernel)",
   "language": "python",
   "name": "python3"
  },
  "language_info": {
   "codemirror_mode": {
    "name": "ipython",
    "version": 3
   },
   "file_extension": ".py",
   "mimetype": "text/x-python",
   "name": "python",
   "nbconvert_exporter": "python",
   "pygments_lexer": "ipython3",
   "version": "3.10.18"
  }
 },
 "nbformat": 4,
 "nbformat_minor": 5
}
