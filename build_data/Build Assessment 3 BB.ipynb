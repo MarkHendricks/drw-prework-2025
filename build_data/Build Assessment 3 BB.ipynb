{
 "cells": [
  {
   "cell_type": "code",
   "execution_count": 1,
   "metadata": {},
   "outputs": [],
   "source": [
    "import pandas as pd\n",
    "import numpy as np\n",
    "from xbbg import blp"
   ]
  },
  {
   "cell_type": "code",
   "execution_count": 2,
   "metadata": {},
   "outputs": [],
   "source": [
    "DO_HISTORY = False"
   ]
  },
  {
   "cell_type": "markdown",
   "metadata": {},
   "source": [
    "***"
   ]
  },
  {
   "cell_type": "code",
   "execution_count": 3,
   "metadata": {},
   "outputs": [],
   "source": [
    "TICKS = ['CT10', 'CB3', 'CTII10']\n",
    "TYPE = 'Govt'\n",
    "bbcodes = [f'{tick} {TYPE}' for tick in TICKS]\n",
    "FLDS = ['NAME','SECURITY_TYP','MATURITY','MTY_YEARS','CPN','INT_ACC','AMT_OUTSTANDING','BID_YIELD','PX_BID','QT_SPEC','ISSUE_DT','IS_US_ON_THE_RUN','PRINCIPAL_FACTOR']\n",
    "info = blp.bdp(bbcodes,FLDS)"
   ]
  },
  {
   "cell_type": "code",
   "execution_count": 4,
   "metadata": {},
   "outputs": [],
   "source": [
    "def decimal_to_32nds(price: float) -> str:\n",
    "    \"\"\"\n",
    "    Convert a decimal price to a US Treasury note quote in 32nds.\n",
    "\n",
    "    Parameters\n",
    "    ----------\n",
    "    price : float\n",
    "        Price in decimal (e.g., 100.234375)\n",
    "\n",
    "    Returns\n",
    "    -------\n",
    "    str\n",
    "        Quote string in the format \"AAA-BB\" or \"AAA-BB+\" if there's a half 32nd.\n",
    "\n",
    "    Examples\n",
    "    --------\n",
    "    >>> decimal_to_32nds(100.15625)\n",
    "    '100-05+'\n",
    "    >>> decimal_to_32nds(99.96875)\n",
    "    '99-31+'\n",
    "    >>> decimal_to_32nds(101.0)\n",
    "    '101-00'\n",
    "    \"\"\"\n",
    "    # Split into whole number and fractional part\n",
    "    whole = int(price)\n",
    "    frac = price - whole\n",
    "\n",
    "    # Convert fractional part to 64ths and round to nearest\n",
    "    total_64ths = round(frac * 64)\n",
    "\n",
    "    # Determine number of whole 32nds and if there is a half 32nd\n",
    "    n32 = total_64ths // 2\n",
    "    half_flag = total_64ths % 2\n",
    "\n",
    "    # Handle rollover if rounding pushes to the next whole point\n",
    "    if n32 == 32:\n",
    "        whole += 1\n",
    "        n32 = 0\n",
    "        half_flag = 0\n",
    "\n",
    "    # Build the quote string\n",
    "    quote = f\"{whole}-{n32:02d}\"\n",
    "    if half_flag:\n",
    "        quote += \"+\"\n",
    "    return quote"
   ]
  },
  {
   "cell_type": "code",
   "execution_count": 5,
   "metadata": {},
   "outputs": [],
   "source": [
    "ticks_32nds = ['CT10 Govt','CTII10 Govt']\n",
    "for tick in ticks_32nds:\n",
    "    info.loc[tick,'px_bid'] = decimal_to_32nds(info.loc[tick,'px_bid'])\n",
    "info['cpn'] /= 100"
   ]
  },
  {
   "cell_type": "code",
   "execution_count": 6,
   "metadata": {},
   "outputs": [
    {
     "data": {
      "text/html": [
       "<div>\n",
       "<style scoped>\n",
       "    .dataframe tbody tr th:only-of-type {\n",
       "        vertical-align: middle;\n",
       "    }\n",
       "\n",
       "    .dataframe tbody tr th {\n",
       "        vertical-align: top;\n",
       "    }\n",
       "\n",
       "    .dataframe thead th {\n",
       "        text-align: right;\n",
       "    }\n",
       "</style>\n",
       "<table border=\"1\" class=\"dataframe\">\n",
       "  <thead>\n",
       "    <tr style=\"text-align: right;\">\n",
       "      <th></th>\n",
       "      <th>name</th>\n",
       "      <th>security_typ</th>\n",
       "      <th>maturity date</th>\n",
       "      <th>ttm (years)</th>\n",
       "      <th>coupon rate</th>\n",
       "      <th>accrued interest</th>\n",
       "      <th>amount issued</th>\n",
       "      <th>ytm (bid)</th>\n",
       "      <th>price quoted (bid)</th>\n",
       "      <th>quote specification</th>\n",
       "      <th>issue date</th>\n",
       "      <th>is_us_on_the_run</th>\n",
       "      <th>inflation adjustment</th>\n",
       "    </tr>\n",
       "  </thead>\n",
       "  <tbody>\n",
       "    <tr>\n",
       "      <th>CB3 Govt</th>\n",
       "      <td>TREASURY BILL</td>\n",
       "      <td>US GOVERNMENT</td>\n",
       "      <td>2025-10-02</td>\n",
       "      <td>0.238193</td>\n",
       "      <td>0.0</td>\n",
       "      <td>0.0</td>\n",
       "      <td>207649000000.0</td>\n",
       "      <td>4.362</td>\n",
       "      <td>4.2575</td>\n",
       "      <td>4</td>\n",
       "      <td>2024-10-03</td>\n",
       "      <td>Y</td>\n",
       "      <td>1.0</td>\n",
       "    </tr>\n",
       "    <tr>\n",
       "      <th>CT10 Govt</th>\n",
       "      <td>US TREASURY N/B</td>\n",
       "      <td>US GOVERNMENT</td>\n",
       "      <td>2035-05-15</td>\n",
       "      <td>9.853525</td>\n",
       "      <td>0.0425</td>\n",
       "      <td>0.612092</td>\n",
       "      <td>96526000000.0</td>\n",
       "      <td>4.35</td>\n",
       "      <td>99-06+</td>\n",
       "      <td>512ths</td>\n",
       "      <td>2025-05-15</td>\n",
       "      <td>Y</td>\n",
       "      <td>1.0</td>\n",
       "    </tr>\n",
       "    <tr>\n",
       "      <th>CTII10 Govt</th>\n",
       "      <td>TSY INFL IX N/B</td>\n",
       "      <td>US GOVERNMENT</td>\n",
       "      <td>2035-01-15</td>\n",
       "      <td>9.524983</td>\n",
       "      <td>0.02125</td>\n",
       "      <td>1.015539</td>\n",
       "      <td>57625000000.0</td>\n",
       "      <td>1.999</td>\n",
       "      <td>101-03</td>\n",
       "      <td>512ths</td>\n",
       "      <td>2025-01-31</td>\n",
       "      <td>N</td>\n",
       "      <td>1.01691</td>\n",
       "    </tr>\n",
       "  </tbody>\n",
       "</table>\n",
       "</div>"
      ],
      "text/plain": [
       "                        name   security_typ maturity date ttm (years)  \\\n",
       "CB3 Govt       TREASURY BILL  US GOVERNMENT    2025-10-02    0.238193   \n",
       "CT10 Govt    US TREASURY N/B  US GOVERNMENT    2035-05-15    9.853525   \n",
       "CTII10 Govt  TSY INFL IX N/B  US GOVERNMENT    2035-01-15    9.524983   \n",
       "\n",
       "            coupon rate accrued interest   amount issued ytm (bid)  \\\n",
       "CB3 Govt            0.0              0.0  207649000000.0     4.362   \n",
       "CT10 Govt        0.0425         0.612092   96526000000.0      4.35   \n",
       "CTII10 Govt     0.02125         1.015539   57625000000.0     1.999   \n",
       "\n",
       "            price quoted (bid) quote specification  issue date  \\\n",
       "CB3 Govt                4.2575                   4  2024-10-03   \n",
       "CT10 Govt               99-06+              512ths  2025-05-15   \n",
       "CTII10 Govt             101-03              512ths  2025-01-31   \n",
       "\n",
       "            is_us_on_the_run inflation adjustment  \n",
       "CB3 Govt                   Y                  1.0  \n",
       "CT10 Govt                  Y                  1.0  \n",
       "CTII10 Govt                N              1.01691  "
      ]
     },
     "execution_count": 6,
     "metadata": {},
     "output_type": "execute_result"
    }
   ],
   "source": [
    "info.rename(columns={'amt_outstanding':'amount issued','principal_factor':'inflation adjustment','issue_dt':'issue date','bid_yield':'ytm (bid)','maturity':'maturity date','px_bid':'price quoted (bid)','mty_years':'ttm (years)','int_acc':'accrued interest','cpn':'coupon rate','qt_spec':'quote specification'}, inplace=True)\n",
    "info"
   ]
  },
  {
   "cell_type": "code",
   "execution_count": 7,
   "metadata": {},
   "outputs": [
    {
     "data": {
      "text/html": [
       "<div>\n",
       "<style scoped>\n",
       "    .dataframe tbody tr th:only-of-type {\n",
       "        vertical-align: middle;\n",
       "    }\n",
       "\n",
       "    .dataframe tbody tr th {\n",
       "        vertical-align: top;\n",
       "    }\n",
       "\n",
       "    .dataframe thead th {\n",
       "        text-align: right;\n",
       "    }\n",
       "</style>\n",
       "<table border=\"1\" class=\"dataframe\">\n",
       "  <thead>\n",
       "    <tr style=\"text-align: right;\">\n",
       "      <th></th>\n",
       "      <th>name</th>\n",
       "      <th>issue date</th>\n",
       "      <th>maturity date</th>\n",
       "      <th>amount issued</th>\n",
       "      <th>ttm (years)</th>\n",
       "      <th>inflation adjustment</th>\n",
       "      <th>coupon rate</th>\n",
       "      <th>accrued interest</th>\n",
       "      <th>price quoted (bid)</th>\n",
       "      <th>ytm (bid)</th>\n",
       "    </tr>\n",
       "  </thead>\n",
       "  <tbody>\n",
       "    <tr>\n",
       "      <th>CB3 Govt</th>\n",
       "      <td>TREASURY BILL</td>\n",
       "      <td>2024-10-03</td>\n",
       "      <td>2025-10-02</td>\n",
       "      <td>207649000000.0</td>\n",
       "      <td>0.238193</td>\n",
       "      <td>1.0</td>\n",
       "      <td>0.0</td>\n",
       "      <td>0.0</td>\n",
       "      <td>4.2575</td>\n",
       "      <td>4.362</td>\n",
       "    </tr>\n",
       "    <tr>\n",
       "      <th>CT10 Govt</th>\n",
       "      <td>US TREASURY N/B</td>\n",
       "      <td>2025-05-15</td>\n",
       "      <td>2035-05-15</td>\n",
       "      <td>96526000000.0</td>\n",
       "      <td>9.853525</td>\n",
       "      <td>1.0</td>\n",
       "      <td>0.0425</td>\n",
       "      <td>0.612092</td>\n",
       "      <td>99-06+</td>\n",
       "      <td>4.35</td>\n",
       "    </tr>\n",
       "    <tr>\n",
       "      <th>CTII10 Govt</th>\n",
       "      <td>TSY INFL IX N/B</td>\n",
       "      <td>2025-01-31</td>\n",
       "      <td>2035-01-15</td>\n",
       "      <td>57625000000.0</td>\n",
       "      <td>9.524983</td>\n",
       "      <td>1.01691</td>\n",
       "      <td>0.02125</td>\n",
       "      <td>1.015539</td>\n",
       "      <td>101-03</td>\n",
       "      <td>1.999</td>\n",
       "    </tr>\n",
       "  </tbody>\n",
       "</table>\n",
       "</div>"
      ],
      "text/plain": [
       "                        name  issue date maturity date   amount issued  \\\n",
       "CB3 Govt       TREASURY BILL  2024-10-03    2025-10-02  207649000000.0   \n",
       "CT10 Govt    US TREASURY N/B  2025-05-15    2035-05-15   96526000000.0   \n",
       "CTII10 Govt  TSY INFL IX N/B  2025-01-31    2035-01-15   57625000000.0   \n",
       "\n",
       "            ttm (years) inflation adjustment coupon rate accrued interest  \\\n",
       "CB3 Govt       0.238193                  1.0         0.0              0.0   \n",
       "CT10 Govt      9.853525                  1.0      0.0425         0.612092   \n",
       "CTII10 Govt    9.524983              1.01691     0.02125         1.015539   \n",
       "\n",
       "            price quoted (bid) ytm (bid)  \n",
       "CB3 Govt                4.2575     4.362  \n",
       "CT10 Govt               99-06+      4.35  \n",
       "CTII10 Govt             101-03     1.999  "
      ]
     },
     "execution_count": 7,
     "metadata": {},
     "output_type": "execute_result"
    }
   ],
   "source": [
    "FLDS_EXPORT = ['name','issue date','maturity date', 'amount issued', 'ttm (years)', 'inflation adjustment', 'coupon rate','accrued interest','price quoted (bid)','ytm (bid)']\n",
    "info_export = info[FLDS_EXPORT]\n",
    "info_export"
   ]
  },
  {
   "cell_type": "markdown",
   "metadata": {},
   "source": [
    "***"
   ]
  },
  {
   "cell_type": "code",
   "execution_count": 8,
   "metadata": {},
   "outputs": [],
   "source": [
    "if DO_HISTORY:\n",
    "    DATESTART = '2000-01-01'\n",
    "    DATEEND = '2025-05-31'\n",
    "\n",
    "    FLDS = ['LAST_PRICE']\n",
    "        \n",
    "    ts = blp.bdh(bbcodes, FLDS, start_date=DATESTART,end_date=DATEEND)\n",
    "\n",
    "\n",
    "    ts.index = pd.to_datetime(ts.index)\n",
    "    ts.index.name = 'date'\n",
    "    ts = ts.xs('LAST_PRICE', axis=1, level=1)\n",
    "    ts.dropna(inplace=True)\n",
    "\n",
    "    ts_export = ts.copy()"
   ]
  },
  {
   "cell_type": "markdown",
   "metadata": {},
   "source": [
    "***"
   ]
  },
  {
   "cell_type": "markdown",
   "metadata": {},
   "source": [
    "# Export Data"
   ]
  },
  {
   "cell_type": "code",
   "execution_count": 9,
   "metadata": {},
   "outputs": [
    {
     "name": "stdout",
     "output_type": "stream",
     "text": [
      "\n",
      "06JUL2025_10:55:13.714 53690:6206500864 WARN apism_apisession.cpp:1332 Apisession.aliveCheck Alive Request Retries exhausted (2) on [localhost:8194 -> 127.0.0.1:65518] \n",
      "\n",
      "06JUL2025_10:55:13.715 53690:13288632320 WARN blpapi_platformcontroller.cpp:489 blpapi.session.{1}.platformcontroller Connectivity lost, no connected endpoints. \n",
      "\n",
      "06JUL2025_10:55:21.013 53690:6207074304 WARN blpapi_apicmadapter.cpp:358 blpapi.session.{1}.transporttcp.apicmadapter Connection attempt timed out localhost:8194 <127.0.0.1:8194> \n",
      "\n",
      "06JUL2025_10:55:21.013 53690:6207074304 WARN blpapi_platformtransporttcp.cpp:138 blpapi.session.{1}.transporttcp<0><localhost:8194> 127.0.0.1, session pool state=Failed \n",
      "\n",
      "06JUL2025_10:59:21.707 53690:6207074304 WARN apicm_apiconnector.cpp:571 ApiConnector::negotiatorCallback localhost: Session negotiation failed for 127.0.0.1:8194 result = 1 \n",
      "\n",
      "06JUL2025_10:59:21.707 53690:6207074304 WARN blpapi_apicmadapter.cpp:350 blpapi.session.{1}.transporttcp.apicmadapter Failed BBCOMM session negotiation localhost:8194 <127.0.0.1:8194> \n",
      "\n",
      "06JUL2025_10:59:21.708 53690:6207074304 WARN blpapi_platformtransporttcp.cpp:138 blpapi.session.{1}.transporttcp<0><localhost:8194> 127.0.0.1, session pool state=Failed \n",
      "\n",
      "06JUL2025_10:59:25.951 53690:6207074304 WARN apicm_apiconnector.cpp:380 ApiConnector::socketConnectorCallback localhost: Failed to connect to 127.0.0.1:8194, status=1, error 8 connect event failed \n",
      "\n",
      "06JUL2025_10:59:25.951 53690:6207074304 WARN blpapi_platformtransporttcp.cpp:138 blpapi.session.{1}.transporttcp<0><localhost:8194> 127.0.0.1, session pool state=Failed \n",
      "\n",
      "06JUL2025_10:59:25.951 53690:6207074304 WARN blpapi_platformcontroller.cpp:765 blpapi.session.{1}.platformcontroller Platform failed 3 consecutive times, stopped trying to reconnect. { PlatformId=0 }  \n"
     ]
    }
   ],
   "source": [
    "OUTFILE = f'../data/exam_3_data.xlsx'\n",
    "\n",
    "with pd.ExcelWriter(OUTFILE) as writer:  \n",
    "    info_export.T.to_excel(writer, sheet_name= f'treasury specs', index=True)\n",
    "    if DO_HISTORY:\n",
    "        ts_export.to_excel(writer, sheet_name= f'treasury price history', index=True)"
   ]
  }
 ],
 "metadata": {
  "kernelspec": {
   "display_name": "venv",
   "language": "python",
   "name": "python3"
  },
  "language_info": {
   "codemirror_mode": {
    "name": "ipython",
    "version": 3
   },
   "file_extension": ".py",
   "mimetype": "text/x-python",
   "name": "python",
   "nbconvert_exporter": "python",
   "pygments_lexer": "ipython3",
   "version": "3.13.5"
  }
 },
 "nbformat": 4,
 "nbformat_minor": 2
}
